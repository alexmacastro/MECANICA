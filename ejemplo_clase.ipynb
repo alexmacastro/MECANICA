{
  "nbformat": 4,
  "nbformat_minor": 0,
  "metadata": {
    "colab": {
      "name": "Untitled0.ipynb",
      "provenance": [],
      "collapsed_sections": [],
      "include_colab_link": true
    },
    "kernelspec": {
      "name": "python3",
      "display_name": "Python 3"
    }
  },
  "cells": [
    {
      "cell_type": "markdown",
      "metadata": {
        "id": "view-in-github",
        "colab_type": "text"
      },
      "source": [
        "<a href=\"https://colab.research.google.com/github/alexmacastro/MECANICA/blob/master/ejemplo_clase.ipynb\" target=\"_parent\"><img src=\"https://colab.research.google.com/assets/colab-badge.svg\" alt=\"Open In Colab\"/></a>"
      ]
    },
    {
      "cell_type": "markdown",
      "metadata": {
        "id": "Rn4B5dWoBHxR",
        "colab_type": "text"
      },
      "source": [
        "# Cuaderno de apoyo para el lunes 18 de noviembre\n",
        "Primero definiremos el vector $\\vec{p}$"
      ]
    },
    {
      "cell_type": "code",
      "metadata": {
        "id": "7SCi740e-dou",
        "colab_type": "code",
        "colab": {
          "base_uri": "https://localhost:8080/",
          "height": 36
        },
        "outputId": "3fc7ac77-21b6-401e-9c6a-f1c75a173d9a"
      },
      "source": [
        "import numpy as np\n",
        "\n",
        "masa = 2 # kg\n",
        "\n",
        "velocidad = np.array([1,2,-2])\n",
        "\n",
        "p = masa*velocidad\n",
        "\n",
        "print (\"La cantidad de movimiento es \", p)"
      ],
      "execution_count": 1,
      "outputs": [
        {
          "output_type": "stream",
          "text": [
            "La cantidad de movimiento es  [ 2  4 -4]\n"
          ],
          "name": "stdout"
        }
      ]
    },
    {
      "cell_type": "code",
      "metadata": {
        "id": "3U7X7s2cBQbG",
        "colab_type": "code",
        "colab": {
          "base_uri": "https://localhost:8080/",
          "height": 36
        },
        "outputId": "6d39353f-8a7b-4e0f-fbb7-4e9371b880ae"
      },
      "source": [
        "OM = np.array([1,1,1])\n",
        "\n",
        "HO = np.cross(OM,p)\n",
        "print(\"El momento cinético vale \",HO,\"jg*m2/s\")"
      ],
      "execution_count": 2,
      "outputs": [
        {
          "output_type": "stream",
          "text": [
            "El momento cinético vale  [-8  6  2] jg*m2/s\n"
          ],
          "name": "stdout"
        }
      ]
    },
    {
      "cell_type": "code",
      "metadata": {
        "id": "qLHlQ5_bBy1V",
        "colab_type": "code",
        "colab": {}
      },
      "source": [
        "masa = 4\n",
        "velocidad = np.array([1,2,1])\n",
        "Ec = 1/2.*masa*velocidad.dot(velocidad)"
      ],
      "execution_count": 0,
      "outputs": []
    },
    {
      "cell_type": "code",
      "metadata": {
        "id": "6l9H8lilDkIQ",
        "colab_type": "code",
        "colab": {
          "base_uri": "https://localhost:8080/",
          "height": 36
        },
        "outputId": "e0eb9302-c99c-4a68-f68c-a1afa7178512"
      },
      "source": [
        "Ec"
      ],
      "execution_count": 4,
      "outputs": [
        {
          "output_type": "execute_result",
          "data": {
            "text/plain": [
              "12.0"
            ]
          },
          "metadata": {
            "tags": []
          },
          "execution_count": 4
        }
      ]
    },
    {
      "cell_type": "code",
      "metadata": {
        "id": "qZ52e2sBD8Oy",
        "colab_type": "code",
        "colab": {}
      },
      "source": [
        ""
      ],
      "execution_count": 0,
      "outputs": []
    }
  ]
}
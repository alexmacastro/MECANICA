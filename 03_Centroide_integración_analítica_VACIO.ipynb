{
 "cells": [
  {
   "cell_type": "markdown",
   "metadata": {},
   "source": [
    "# Integración analítica con SymPy. Centros de gravedad y centroides\n",
    "\n",
    "## Mecánica para Ingenieros. Grado en Ingeniería Civil. \n",
    "### Corrección curso 2018-2019 para actualización de Sympy\n",
    "\n",
    "+ Alejandro E. Martínez Castro (Desarrollador principal, email:amcastro@ugr.es).\n",
    "+ Germán Rodríguez Salido.\n",
    "+ Manuel Chiachío Ruano\n",
    "+ Rafael Bravo Pareja.\n",
    "\n",
    "_Departamento de Mecánica de Estructuras e Ingeniería Hidráulica_\n",
    "\n",
    "_Universidad de Granada_\n",
    "\n",
    "\n",
    "<a rel=\"license\" href=\"http://creativecommons.org/licenses/by-nc/4.0/\"><img alt=\"Licencia de Creative Commons\" style=\"border-width:0\" src=\"https://i.creativecommons.org/l/by-nc/4.0/88x31.png\" /></a><br />Este obra está bajo una <a rel=\"license\" href=\"http://creativecommons.org/licenses/by-nc/4.0/\">licencia de Creative Commons Reconocimiento-NoComercial 4.0 Internacional</a>."
   ]
  },
  {
   "cell_type": "markdown",
   "metadata": {},
   "source": [
    "# Objetivos de este cuaderno\n",
    "\n",
    "- Uso de SymPy para obtener integrales analíticas.  \n",
    "- Evaluación numérica de una expresión simbólica. \n",
    "- Exportar una expresión simbólica a código Python."
   ]
  },
  {
   "cell_type": "markdown",
   "metadata": {},
   "source": [
    "# El paquete SymPy para análisis simbólico. \n",
    "\n",
    "En el cuaderno 2 ya se hizo alusión a este interesante paquete de Python. Frente a otros sistemas CAS comerciales (como Mathemática), SymPy permite realizar de forma sencilla operaciones simbólicas. \n",
    "\n",
    "En primer lugar, cargaremos el paquete SymPy"
   ]
  },
  {
   "cell_type": "code",
   "execution_count": null,
   "metadata": {
    "collapsed": true
   },
   "outputs": [],
   "source": [
    "from sympy import *\n",
    "\n",
    "\n",
    "init_printing(use_latex=True)"
   ]
  },
  {
   "cell_type": "markdown",
   "metadata": {},
   "source": [
    "## Problema: determinación del centroide de un semicírculo\n",
    "\n",
    "Para motivar el uso de SymPy, se va a resolver el problema 4 de la relación de problemas, cuyo enunciado es el siguiente: \"Determine la posición del centroide de un semicírculo de radio R\". \n",
    "\n",
    "Consideremos la siguiente figura, en la cual se ha indicado un sistema de referencia $x,y$ con origen en el centro del semicírculo. \n",
    "\n",
    "\n",
    "\n",
    "<IMG SRC=\"cuad3_fig1.png\" WIDTH=400 HEIGHT=180 BORDER=2 ALT=\"Semicirculo\">\n",
    "\n",
    "\n",
    "Para determinar el centroide, únicamente es necesario determinar la coordenada $y_G$, puesto que por simetría, $x_G = 0$, considerando el sistema de referencia de la figura. Por tanto:\n",
    "\n",
    "\\begin{equation}\n",
    "y_G = \\dfrac{\\int \\int_{S} y \\, d S} {\\int \\int_{S} d S}\n",
    "\\end{equation}\n",
    "\n",
    "Teniendo el cuenta las coordenadas polares $(r,\\theta)$, \n",
    "- $y(r,\\theta) = r\\,\\mathrm{sen}\\theta$\n",
    "- $dS = r\\,d\\theta\\,dr$"
   ]
  },
  {
   "cell_type": "markdown",
   "metadata": {},
   "source": [
    "En primer lugar, hemos de decirle a SymPy qué parámetros vamos a considerar como símbolos. "
   ]
  },
  {
   "cell_type": "code",
   "execution_count": null,
   "metadata": {
    "collapsed": true
   },
   "outputs": [],
   "source": [
    "R, r, theta = symbols('R,r,theta') # Le decimos a Python que son símbolos. Al indicar 'theta' aparecerá la letra griega"
   ]
  },
  {
   "cell_type": "markdown",
   "metadata": {},
   "source": [
    "A continuación, indicaremos que y(r) es una función de r, $y(r) = r\\,\\mathrm{sen}\\theta$"
   ]
  },
  {
   "cell_type": "code",
   "execution_count": null,
   "metadata": {},
   "outputs": [],
   "source": [
    "y = r * sin (theta)\n",
    "y"
   ]
  },
  {
   "cell_type": "markdown",
   "metadata": {},
   "source": [
    "Para definir el momento estático (numerador), basta con tener en cuenta que debemos definir una función, que depende sólo de las variables $r,\\theta$, y que no es necesario indicar expresamente $dr,d\\theta$. En el numerador aparece el producto de la función $y(r,\\theta)$, por $r\\,dr\\,d\\theta = dS$. \n",
    "\n",
    "La función para interar en SymPy neceita definir entre paréntesis: \n",
    "- La función a integrar (omitiendo los términos $ds$, $dr$. En nuestro caso será $y(r,\\theta)\\cdot r$\n",
    "- Los límites de variación de cada parámetro. En nuestro caso, $r$ varía en $[0,R]$ y $\\theta$ en $[0,\\frac{\\pi}{2}]$"
   ]
  },
  {
   "cell_type": "code",
   "execution_count": null,
   "metadata": {},
   "outputs": [],
   "source": [
    "momento_estatico = integrate(y * r,(r,0,R),(theta,0,pi))\n",
    "momento_estatico"
   ]
  },
  {
   "cell_type": "markdown",
   "metadata": {},
   "source": [
    "De forma análoga, procederemos con el área, la cual se obtiene por integración de $dS = r\\,dr\\,d\\theta$. Puesto que no hemos de indicar de forma expresa los términos en $dr,d\\theta$, tendremos que integrar como sigue: "
   ]
  },
  {
   "cell_type": "code",
   "execution_count": null,
   "metadata": {},
   "outputs": [],
   "source": [
    "area = integrate(r,(r,0,R),(theta,0,pi))\n",
    "area"
   ]
  },
  {
   "cell_type": "markdown",
   "metadata": {},
   "source": [
    "Finalmente, procederemos, según la definición de $y_G$, a definir el cociente"
   ]
  },
  {
   "cell_type": "code",
   "execution_count": null,
   "metadata": {},
   "outputs": [],
   "source": [
    "yg = momento_estatico / area\n",
    "yg"
   ]
  },
  {
   "cell_type": "markdown",
   "metadata": {},
   "source": [
    "Observe que el resultado obtenido para $y_G = \\dfrac{4 R}{3 \\pi}$ coincide con el obtenido en la relación de problemas."
   ]
  },
  {
   "cell_type": "markdown",
   "metadata": {},
   "source": [
    "## Exportación de expresiones a código Python\n",
    "\n",
    "Un problema habitual cuando se realiza un programa es tener que escribir fórmulas. En muchas ocasiones, las fórmulas proceden de un cálculo simbólico. \n",
    "\n",
    "Dentro de Python, es posible escribir un programa, y guardarlo en un fichero con extensión .py (típicos ficheros de Python que se abren en Spyder). \n",
    "\n",
    "Imaginemos que deseamos crear una función para evaluar `yg`. Necesitamos tener escrito en código Python el valor de yg anteriormente obtenido. \n",
    "\n",
    "Para esto, la función `print()` permite exportar una expresion simbólica a código Python. \n",
    "\n",
    "Observe la siguiente salida:"
   ]
  },
  {
   "cell_type": "code",
   "execution_count": null,
   "metadata": {},
   "outputs": [],
   "source": [
    "print(yg)"
   ]
  },
  {
   "cell_type": "markdown",
   "metadata": {},
   "source": [
    "Se ha obtenido `4*R/(3*pi)`, que es la sintaxis de Python. De la anterior expresión, quedaría por definir claramente la variable `pi`. Podría hacerse cargando la librería Numpy, con `np.pi()`. \n",
    "\n",
    "Existen otros formatos de exportación. Por ejemplo, puede obtenerse la salida a código LaTeX, como sigue:"
   ]
  },
  {
   "cell_type": "code",
   "execution_count": null,
   "metadata": {},
   "outputs": [],
   "source": [
    "print(latex(yg))"
   ]
  },
  {
   "cell_type": "markdown",
   "metadata": {},
   "source": [
    "## Evaluación para unos valores dados\n",
    "\n",
    "Una vez obtenida una expresión en simbólico, es posible que estemos interesados en particularizar el resultado para unos valores dados. Para esto, SymPy tiene una función de evaluación. \n",
    "\n",
    "Consideremos que deseamos evaluar el centro de gravedad, para un semicírculo de radio $R = 14$. \n",
    "\n",
    "Puesto que la variable $R$ ya está asignada como simbólica, vamos a definir otra variable, para almacenar el dato concreto del radio que se desea evaluar. Denominaremos a esta nueva variable $R_{eval}$"
   ]
  },
  {
   "cell_type": "code",
   "execution_count": null,
   "metadata": {
    "collapsed": true
   },
   "outputs": [],
   "source": [
    "R_eval = 14"
   ]
  },
  {
   "cell_type": "markdown",
   "metadata": {},
   "source": [
    "A continuación, podremos evaluar el valor concreto de $y_G$ para $R = R_{eval}$"
   ]
  },
  {
   "cell_type": "code",
   "execution_count": null,
   "metadata": {},
   "outputs": [],
   "source": [
    "y_centro = yg.subs([(R,R_eval)])\n",
    "y_centro"
   ]
  },
  {
   "cell_type": "markdown",
   "metadata": {},
   "source": [
    "Nótese que aún no se ha obtenido un número con decimales, ya que la función 'subs' ha actuado sobre el objeto 'yg' sustituyendo en simbólico, el símbolo $R$ por su valor contenido en la variable $R_1$. \n",
    "\n",
    "Para obtener una aproximación decimal, es necesario evaluar la expresión anterior. Para esto, utilizaremos la función ´evalf()'."
   ]
  },
  {
   "cell_type": "code",
   "execution_count": null,
   "metadata": {},
   "outputs": [],
   "source": [
    "y_centro.evalf()"
   ]
  },
  {
   "cell_type": "markdown",
   "metadata": {},
   "source": [
    "## Centro de gravedad. Densidad variable con el radio\n",
    "\n",
    "En esta ocasión vamos a determinar la posición del centro de gravedad de un semicírculo de radio $R$. Consideraremos que la densidad (masa/superficie) no es una función constante, sino que varía, según la siguiente expresión: \n",
    "\n",
    "$$\\rho(r) = \\rho_1 + \\dfrac{\\rho_2}{R}\\,r$$\n",
    "\n",
    "Es decir, la densidad varía de forma lineal con el radio. Para $r=0$ el valor de la densidad es $\\rho_1$ y para $r=R$ la densidad vale $\\rho_2$. La expresión anterior permite obtener la densidad para cualquier valor de $r\\in[0,R]$. \n",
    "\n",
    "Por simetría (atención, también $\\rho(r)$ induce simetría, sólo debemos obtener el valor de $y_G$, como sigue: \n",
    "\n",
    "\\begin{equation}\n",
    "y_{CG} = \\dfrac{\\int \\int_{S} \\rho\\, y \\, d S} {\\int \\int_{S} \\rho\\, d S}\n",
    "\\end{equation}"
   ]
  },
  {
   "cell_type": "code",
   "execution_count": null,
   "metadata": {
    "collapsed": true
   },
   "outputs": [],
   "source": [
    "rho, rho1, rho2 = symbols('rho,rho_1,rho_2')"
   ]
  },
  {
   "cell_type": "code",
   "execution_count": null,
   "metadata": {},
   "outputs": [],
   "source": [
    "rho = rho1 + rho2/R * r\n",
    "rho"
   ]
  },
  {
   "cell_type": "code",
   "execution_count": null,
   "metadata": {},
   "outputs": [],
   "source": [
    "y_CG = integrate(rho*r,(r,0,R),(theta,0,pi)) / integrate(rho,(r,0,R),(theta,0,pi))\n",
    "y_CG"
   ]
  },
  {
   "cell_type": "markdown",
   "metadata": {},
   "source": [
    "Podemos simplificar la expresión anterior, mediante la función `simplify()`, actuando sobre el objeto anterior"
   ]
  },
  {
   "cell_type": "code",
   "execution_count": null,
   "metadata": {},
   "outputs": [],
   "source": [
    "y_CG.simplify()"
   ]
  },
  {
   "cell_type": "markdown",
   "metadata": {},
   "source": [
    "## Sector semicircular\n",
    "\n",
    "Determine la posición $y_G$ del sector semicircular de la figura (radios $R1$ y $R2$), considerando densidad constante. Evalúe el resultado para $R1 = 8.3$, $R2 = 15.2$\n",
    "\n",
    "<IMG SRC=\"cuad3_fig2.png\" WIDTH=400 HEIGHT=180 BORDER=2 ALT=\"Semicirculo\">"
   ]
  },
  {
   "cell_type": "code",
   "execution_count": null,
   "metadata": {},
   "outputs": [],
   "source": [
    "R1, R2 = symbols('R1,R2')\n",
    "yg = integrate(y*r,(r,R1,R2),(theta,0,pi)) / integrate(r,(r,R1,R2),(theta,0,pi))\n",
    "yg"
   ]
  },
  {
   "cell_type": "code",
   "execution_count": null,
   "metadata": {},
   "outputs": [],
   "source": [
    "yg.simplify()"
   ]
  },
  {
   "cell_type": "code",
   "execution_count": null,
   "metadata": {},
   "outputs": [],
   "source": [
    "yg.subs([(R1,8.3),(R2,15.2)]).evalf()"
   ]
  },
  {
   "cell_type": "code",
   "execution_count": null,
   "metadata": {},
   "outputs": [],
   "source": [
    "yg"
   ]
  },
  {
   "cell_type": "markdown",
   "metadata": {},
   "source": [
    "Determinación de la expresión en código Python para `yg`"
   ]
  },
  {
   "cell_type": "code",
   "execution_count": null,
   "metadata": {},
   "outputs": [],
   "source": [
    "print(yg)"
   ]
  },
  {
   "cell_type": "code",
   "execution_count": null,
   "metadata": {
    "collapsed": true
   },
   "outputs": [],
   "source": []
  }
 ],
 "metadata": {
  "kernelspec": {
   "display_name": "Python 3",
   "language": "python",
   "name": "python3"
  },
  "language_info": {
   "codemirror_mode": {
    "name": "ipython",
    "version": 3
   },
   "file_extension": ".py",
   "mimetype": "text/x-python",
   "name": "python",
   "nbconvert_exporter": "python",
   "pygments_lexer": "ipython3",
   "version": "3.6.1"
  }
 },
 "nbformat": 4,
 "nbformat_minor": 2
}

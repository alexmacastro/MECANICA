{
 "cells": [
  {
   "cell_type": "markdown",
   "metadata": {},
   "source": [
    "# Ejemplo figura en L\n",
    "\n",
    "### Alejandro E. Martínez Castro\n",
    "\n",
    "En este cuaderno se muestra numéricamente el caso de la L vista en AutoCAD"
   ]
  },
  {
   "cell_type": "markdown",
   "metadata": {},
   "source": [
    "## Centro de gravedad"
   ]
  },
  {
   "cell_type": "code",
   "execution_count": 1,
   "metadata": {},
   "outputs": [
    {
     "name": "stdout",
     "output_type": "stream",
     "text": [
      "(xg, yg) =  4.166666666666667 4.166666666666667\n"
     ]
    }
   ],
   "source": [
    "lado = 10\n",
    "\n",
    "area_grande = lado * lado\n",
    "area_pequeño = (lado/2)**2\n",
    "Sx = area_grande * lado/2 - area_pequeño * (lado/2 +  lado/4)\n",
    "Area = area_grande - area_pequeño\n",
    "xg = Sx / Area\n",
    "yg = xg\n",
    "print (\"(xg, yg) = \", xg, yg)"
   ]
  },
  {
   "cell_type": "markdown",
   "metadata": {},
   "source": [
    "## Momentos de inercia respecto referencia x, y "
   ]
  },
  {
   "cell_type": "code",
   "execution_count": 2,
   "metadata": {},
   "outputs": [
    {
     "name": "stdout",
     "output_type": "stream",
     "text": [
      "Inercia x 1874.9999999999998\n"
     ]
    }
   ],
   "source": [
    "Ix = 1/3*lado**4 - ( 1/12 * (lado/2)**4 + area_pequeño * (lado/2 + lado/4)**2 )\n",
    "print (\"Inercia x\", Ix)"
   ]
  },
  {
   "cell_type": "code",
   "execution_count": null,
   "metadata": {
    "collapsed": true
   },
   "outputs": [],
   "source": [
    "Iy = Ix"
   ]
  }
 ],
 "metadata": {
  "kernelspec": {
   "display_name": "Python 3",
   "language": "python",
   "name": "python3"
  },
  "language_info": {
   "codemirror_mode": {
    "name": "ipython",
    "version": 3
   },
   "file_extension": ".py",
   "mimetype": "text/x-python",
   "name": "python",
   "nbconvert_exporter": "python",
   "pygments_lexer": "ipython3",
   "version": "3.6.1"
  }
 },
 "nbformat": 4,
 "nbformat_minor": 2
}

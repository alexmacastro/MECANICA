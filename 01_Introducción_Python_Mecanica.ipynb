{
 "cells": [
  {
   "cell_type": "markdown",
   "metadata": {},
   "source": [
    "# Introducción a Python para Mecánica\n",
    "\n",
    "## Mecánica para Ingenieros. Grado en Ingeniería Civil. \n",
    "\n",
    "+ Alejandro E. Martínez Castro (Desarrollador principal, email:amcastro@ugr.es).\n",
    "+ Germán Rodríguez Salido.\n",
    "+ Manuel Chiachío Ruano\n",
    "+ Rafael Bravo Pareja.\n",
    "+ Rafael Muñoz Beltrán. \n",
    "+ Gracia Rodríguez Jerónimo.\n",
    "\n",
    "_Departamento de Mecánica de Estructuras e Ingeniería Hidráulica_\n",
    "\n",
    "_Universidad de Granada_\n",
    "\n",
    "\n",
    "<a rel=\"license\" href=\"http://creativecommons.org/licenses/by-nc/4.0/\"><img alt=\"Licencia de Creative Commons\" style=\"border-width:0\" src=\"https://i.creativecommons.org/l/by-nc/4.0/88x31.png\" /></a><br />Este obra está bajo una <a rel=\"license\" href=\"http://creativecommons.org/licenses/by-nc/4.0/\">licencia de Creative Commons Reconocimiento-NoComercial 4.0 Internacional</a>."
   ]
  },
  {
   "cell_type": "markdown",
   "metadata": {},
   "source": [
    "# Objetivos de este cuaderno\n",
    "\n",
    "- Introducción a Python. \n",
    "- Uso de Python dentro del cuaderno de Jupyter Notebook. \n",
    "- Introducción a la librería Numpy."
   ]
  },
  {
   "cell_type": "markdown",
   "metadata": {},
   "source": [
    "## Introducción a Python para ingeniería y ciencia\n",
    "\n",
    "### Motivación inicial.\n",
    "\n",
    "__¡ Bienvenido a la asignatura de Mecánica para Ingenieros !__\n",
    "\n",
    "A lo largo de este curso se utilizará el lenguaje Python, y la distribución Anaconda, para implementar determinadas aplicaciones numéricas. El uso de Python está extendiéndose cada vez más en el mundo laboral en ingeniería (tanto en empresas como en investigación y desarrollo). Es muy importante desarrollar habilidades para implementar y programar los modelos matemáticos, especialmente en el contexto de la ingeniería, ya que __la ingeniería necesita números, gráficas, programar tareas repetitivas, etc__. Es por esto que las prácticas numéricas de esta asignatura se han planteado en este lenguaje. Indudablemente, el valor añadido que supone manejar un lenguaje como Python para un currículum es claro. Aunque no es un objetivo prioritario el aprendizaje sobre la programación propia en Python, se le recomienda que explore la documentación que existe _online_ para adquirir un mayor grado de conocimiento sobre el mismo.\n",
    "\n",
    "Python es un lenguaje muy sencillo, y es software libre. A lo largo del curso se presentarán aplicaciones para las cuales no se requieren conocimientos previos de Python, y sí conocimientos básicos sobre programación (variables, bucles, condicionales, funciones, etc). El objetivo será, por tanto, utilizar Python como herramienta para mejorar el aprendizaje propio de la asignatura. \n",
    "\n",
    "Estas líneas las está leyendo dentro de un cuaderno del servidor Jupyter. Es sólo una de las herramientas del ecosistema de Python, que se utilizarán de forma habitual en el curso. Este tipo de cuadernos son interactivos, y permiten que, junto a líneas de texto, con hipervínculos, se introduzcan celdas de Python que pueden ejecutarse a la vez. Observará a lo largo del curso las ventajas que tienen estos cuadernos. Pero no son la única forma de utilizar Python. También se utilizará de forma directa, o en ficheros. ¡ Todo a su tiempo !. En este primer cuaderno simplemente se presentarán un conjunto de ideas generales y aplicaciones introductorias. \n",
    "\n",
    "\n",
    "### Breve historia de Python. \n",
    "\n",
    "El lenguaje Python nace en el año 1980. La historia de Python comienza con el lenguaje [ABC](https://en.wikipedia.org/wiki/ABC_(programming_language)). Es un lenguaje de programación de propósito general, que fue desarrollado en Amsterdam (Holanda) en el CWI (Centrum Wiskunde & Informatica).\n",
    "\n",
    "[Guido van Rossum](https://es.wikipedia.org/wiki/Guido_van_Rossum) es su principal creador y desarrollador.\n",
    "\n",
    "Sobre el nombre \"Python\", mucha gente piensa que se trata de una alusión a las serpientes. Pero el nombre está más ligado al grupo de humoristas británico [Monty Python](https://es.wikipedia.org/wiki/Monty_Python). Guido van Rossum, el creador de Python, escribió en 1996 sobre el origen del nombre de su lenguaje de programación: _\"Hace seis años, en diciembre de 1989, estaba buscando un hobby que me mantuviese ocupado durante la semana de Navidad. Mi oficina... estaba cerrada, pero tenía un ordenador en casa, y poco más. Decidí escribir un intérprete para el nuevo lenguaje de script que estaba pensando: una variante de ABC que sirviese a usuarios de Unix/C. Decidí usar Python como nombre de trabajo para el proyecto, a modo de broma ireverente (como fan del Monty Python's Flying Circus)\"_. \n",
    "\n",
    "Vea en el siguiente vídeo (y de paso, observe lo fácil que es incrustar vídeos de Youtube en Jupyter notebook) una entrevista a Guido van Rossum, por Charles Severance (Dr. Chuck, gran docente del mundo Python)"
   ]
  },
  {
   "cell_type": "code",
   "execution_count": 1,
   "metadata": {},
   "outputs": [
    {
     "data": {
      "image/jpeg": "[encoded data removed]",
      "text/html": [
       "\n",
       "        <iframe\n",
       "            width=\"400\"\n",
       "            height=\"300\"\n",
       "            src=\"https://www.youtube.com/embed/rTTFh7HOlC0\"\n",
       "            frameborder=\"0\"\n",
       "            allowfullscreen\n",
       "        ></iframe>\n",
       "        "
      ],
      "text/plain": [
       "<IPython.lib.display.YouTubeVideo at 0x4ce5f98>"
      ]
     },
     "execution_count": 1,
     "metadata": {},
     "output_type": "execute_result"
    }
   ],
   "source": [
    "from IPython.display import YouTubeVideo\n",
    "YouTubeVideo(\"rTTFh7HOlC0\")"
   ]
  },
  {
   "cell_type": "markdown",
   "metadata": {},
   "source": [
    "## ¿Por qué Python?\n",
    "\n",
    "Existen numerosas razones para elegir Python como lenguaje de programación en ingeniería y ciencia. \n",
    "\n",
    "+ Aprender Python es muy sencillo. \n",
    "+ Python es un lenguaje potente. \n",
    "+ Tiene estructuras de datos de alto nivel, que permiten escribir código complejo en pocas líneas. \n",
    "+ La programación orientada a objetos es más sencilla que en otros lenguajes. \n",
    "+ Es extensible. \n",
    "+ Es _gratuito_. \n",
    "+ Tiene muchos paquetes orientados a cálculo numérico y simbólico. \n"
   ]
  },
  {
   "cell_type": "markdown",
   "metadata": {},
   "source": [
    "En lo que sigue se resumen otras ventajas del lenguaje: \n",
    "\n",
    "+ Es fácil incorporar el intérprete de Python dentro de otras aplicaciones. (Salomé Meca, Code Aster, Revit, herramientas de ecosistemas BIM, etc). \n",
    "+ Python se puede extender mediante librerías (Numpy, Sympy, Matplotlib, etc). \n",
    "+ En aspectos numéricos y científicos, presenta ventajas en comparación con otros lenguajes interpretados. Python es un lenguaje para la ciencia. Existen numerosos recursos en la red sobre este aspecto. Es interesante la [página de Fernando Pérez, desarrollador de Ipython Notebook](http://fperez.org/py4science/)\n",
    "\n",
    "+ Existe una amplia comunidad de ususarios. A través de código compartido, como en Github, es posible acceder a código fuente, cuadernos de Jupyter, etc. Véanse los ejemplos en de [Fernando Pérez](https://github.com/ipython/ipython/wiki/A-gallery-of-interesting-IPython-Notebooks) o del autor de los cuadernos que se verán en este curso\n",
    "[Alejandro M. Castro](https://github.com/alexmacastro)\n",
    "\n",
    "+ En relación a la comparativa con Matlab, es interesante la información que se muestra en los siguientes enlaces: \n",
    "    + [10 ventajas de Python para ciencia](https://www.stat.washington.edu/~hoytak/blog/whypython.html)\n",
    "    + [Python vs. Matlab](http://www.pyzo.org/python_vs_matlab.html)\n",
    "    + [8 ventajas de Python frente a Matlab](http://phillipmfeldman.org/Python/Advantages_of_Python_Over_Matlab.html)\n",
    "    + [Yo usaba Matlab. Ahora uso Python](https://stevetjoa.com/305/)\n",
    "    + [Las 9 razones para pasarse de Matlab a Python](https://ajminich.com/2013/06/22/9-reasons-to-switch-from-matlab-to-python/)"
   ]
  },
  {
   "cell_type": "markdown",
   "metadata": {},
   "source": [
    "# Implementación de Python en ANACONDA\n",
    "\n",
    "En este curso se utilizará Python dentro de la distribución [Anaconda](https://docs.continuum.io/anaconda/). \n",
    "\n",
    "Existen dos versiones del lenguaje, la 2.7 y la 3.6. En estos momentos, la versión 2.7 no se mantiene, y todos los nuevos paquetes se montan en torno a la versión 3.6. Es por esto que este curso está montado sobre la versión 3.6. \n",
    "\n",
    "A lo largo del curso se utilizarán dos tipos de entorno: \n",
    "\n",
    "- Cuadernos de Jupyter notebook. (Como éste). \n",
    "- Entorno Spyder, que está incorporado en la distribución Anaconda. \n",
    "\n",
    "Los cuadernos de Jupyter permiten utilizar el navegador (que puede ser cualquiera, como Firefox, Explorer, o Chrome) para escribir celdas que permiten reproducir texto formateado (incluyendo símbolos matemáticos, como $\\vec{u}$, $\\cos(\\theta)$, etc), y celdas de cálculo. Estos cuadernos permiten presentar los conceptos y trabajar directamente sobre los mismos. \n",
    "\n",
    "\n",
    "El entorno Spyder permite cargar un fichero de Python (extensión .py) y ejecutarlo, controlando las variables. Además, permite escribir comandos y ejecutarlos. \n",
    "\n",
    "Dependiendo del uso, se utilizarán ficheros de Python (y por tanto, el entorno Spyder) o bien cuadernos (entorno Jupyter)."
   ]
  },
  {
   "cell_type": "markdown",
   "metadata": {},
   "source": [
    "# Tipos de datos y variables\n",
    "\n",
    "## Variables\n",
    "\n",
    "Como su nombre indica, una variable es algo que puede cambiar. Una variable es una forma de referirse a una localización en memoria utilizada por un programa de ordenador. Una variable tiene un nombre simbólico que \"apunta\" a una dirección de memoria física. \n",
    "\n",
    "En Python no se requiere una declaración de variables. Si se necesita una variable, se debe elegir un nombre y se le asignan directamente los valores. El tipo de variable que se asigna puede controlarse y cambiarse durante la ejecución del programa. Obsérvelo con el siguiente ejemplo, en el cual se usa la orden \n",
    "    \n",
    "    type()\n",
    "\n",
    "Para indicar el tipo de dato. \n",
    "\n",
    "A continuación, la siguiente celda es de cálculo. Para poder ejecutarla, simplemente haga click sobre la misma, y pulse a la vez los botones \"Mayúscula derecha\" (una flecha hacia arriba) y \"Enter\". Típicamente, este movimiento se realiza pulsando con el dedo índice la tecla de mayúscula derecha, y con el dedo corazón, la tecla enter. "
   ]
  },
  {
   "cell_type": "code",
   "execution_count": 2,
   "metadata": {},
   "outputs": [
    {
     "name": "stdout",
     "output_type": "stream",
     "text": [
      "El valor de i es 10\n",
      "El tipo de i es <class 'int'>\n"
     ]
    }
   ],
   "source": [
    "i = 10\n",
    "print ( \"El valor de i es\", i)\n",
    "print (\"El tipo de i es\", type(i))"
   ]
  },
  {
   "cell_type": "code",
   "execution_count": 3,
   "metadata": {},
   "outputs": [
    {
     "name": "stdout",
     "output_type": "stream",
     "text": [
      "El valor de i es 10.1\n",
      "El tipo de i es <class 'float'>\n"
     ]
    }
   ],
   "source": [
    "i = 10.1\n",
    "print (\"El valor de i es\", i)\n",
    "print (\"El tipo de i es\", type(i))"
   ]
  },
  {
   "cell_type": "markdown",
   "metadata": {},
   "source": [
    "El signo \"=\" no debe ser visto como \"igual a\", sino como \"asignado a\""
   ]
  },
  {
   "cell_type": "code",
   "execution_count": 8,
   "metadata": {},
   "outputs": [
    {
     "name": "stdout",
     "output_type": "stream",
     "text": [
      "11\n"
     ]
    }
   ],
   "source": [
    "i = 10\n",
    "i = i + 1 \n",
    "print(i)"
   ]
  },
  {
   "cell_type": "markdown",
   "metadata": {},
   "source": [
    "## Números\n",
    "\n",
    "Python incluye un conjunto de números (objetos) dentro de su librería standard. Los básicos son: \n",
    "\n",
    "- Enteros. \n",
    "- Punto flotante. \n",
    "- Complejos\n",
    "\n",
    "### Números enteros\n",
    "\n",
    "Se definen de forma análoga a otros lenguajes: número sin punto decimal. "
   ]
  },
  {
   "cell_type": "code",
   "execution_count": 9,
   "metadata": {},
   "outputs": [
    {
     "data": {
      "text/plain": [
       "int"
      ]
     },
     "execution_count": 9,
     "metadata": {},
     "output_type": "execute_result"
    }
   ],
   "source": [
    "a = 2\n",
    "type (a)"
   ]
  },
  {
   "cell_type": "markdown",
   "metadata": {},
   "source": [
    "### Números de punto flotante. \n",
    "\n",
    "Si se introduce el punto decimal, y se añaden decimales, Python interpretará el número como punto flotante."
   ]
  },
  {
   "cell_type": "code",
   "execution_count": 10,
   "metadata": {},
   "outputs": [
    {
     "data": {
      "text/plain": [
       "float"
      ]
     },
     "execution_count": 10,
     "metadata": {},
     "output_type": "execute_result"
    }
   ],
   "source": [
    "b = 12.0\n",
    "type (b)"
   ]
  },
  {
   "cell_type": "markdown",
   "metadata": {},
   "source": [
    "### Números de punto flotante. \n",
    "\n",
    "La variable compleja se escribe introduciendo la unidad imaginaria con la letra _j_"
   ]
  },
  {
   "cell_type": "code",
   "execution_count": 11,
   "metadata": {},
   "outputs": [
    {
     "data": {
      "text/plain": [
       "complex"
      ]
     },
     "execution_count": 11,
     "metadata": {},
     "output_type": "execute_result"
    }
   ],
   "source": [
    "c = 12 + 2j\n",
    "type(c)"
   ]
  },
  {
   "cell_type": "markdown",
   "metadata": {},
   "source": [
    "## Herramientas matemáticas en Python: librerías Numpy, SciPy, Matplotlib y SymPy\n",
    "\n",
    "Python puede utilizarse como calculadura, para realizar operaciones sobre expresiones. Existen tutoriales de Python en los cuales pueden verse operaciones sobre la librería estándard, la cual es muy limitada. Para extender Python al mundo del cálculo científico, se han desarrollado librerías específicas. Dentro de ellas, las más importantes son dos: \n",
    "\n",
    "- La librería [Numpy](http://www.numpy.org/)\n",
    "- La librería [SciPy](https://www.scipy.org/scipylib/index.html)\n",
    "\n",
    "La distribución Anaconda está especialmente diseñada para cálculo científico. Incorpora de forma nativa ambas librerías, así como otros paquetes que se irán descubriendo a lo largo del curso. "
   ]
  },
  {
   "cell_type": "markdown",
   "metadata": {},
   "source": [
    "## La librería Numpy\n",
    "\n",
    "Python está organizado en módulos, que son archivos con extensión `.py` que contienen funciones, variables y otros objetos, y paquetes, que son conjuntos de módulos. Cuando queremos utilizar objetos que están definidos en un módulo tenemos que *importarlo*, y una vez que lo hemos hecho podemos usar el operador `.` para ir descendiendo en la jerarquía de paquetes y acceder al objeto que necesitamos. Por ejemplo, de esta manera importamos NumPy:"
   ]
  },
  {
   "cell_type": "code",
   "execution_count": 12,
   "metadata": {
    "collapsed": true
   },
   "outputs": [],
   "source": [
    "import numpy"
   ]
  },
  {
   "cell_type": "markdown",
   "metadata": {},
   "source": [
    "Y de esta manera accedemos a la función `norm`, que calcula la norma (o módulo) de un vector (array):"
   ]
  },
  {
   "cell_type": "code",
   "execution_count": 13,
   "metadata": {},
   "outputs": [
    {
     "data": {
      "text/plain": [
       "<function numpy.linalg.linalg.norm>"
      ]
     },
     "execution_count": 13,
     "metadata": {},
     "output_type": "execute_result"
    }
   ],
   "source": [
    "numpy.linalg.norm"
   ]
  },
  {
   "cell_type": "markdown",
   "metadata": {},
   "source": [
    "La función `norm` está dentro del paquete `linalg`, que a su vez está dentro del paquete NumPy.\n",
    "\n",
    "La convención para importar NumPy es introducir un nombre corto. Suele utilizarse las letras \"np\""
   ]
  },
  {
   "cell_type": "code",
   "execution_count": 18,
   "metadata": {
    "collapsed": true
   },
   "outputs": [],
   "source": [
    "import numpy as np"
   ]
  },
  {
   "cell_type": "markdown",
   "metadata": {},
   "source": [
    "Lo que hacemos es crear un *alias* al paquete NumPy de nombre `np`. Es simplemente una forma de abreviar el código. Esta forma de separar las funciones en paquetes (que se llaman **espacios de nombres** o *namespaces*) conduce a una mayor legibilidad del código y a la supresión de ambigüedades."
   ]
  },
  {
   "cell_type": "markdown",
   "metadata": {},
   "source": [
    "### Constantes y funciones matemáticas\n",
    "\n",
    "Además de arrays (vectores), NumPy contiene también constantes y funciones matemáticas de uso cotidiano."
   ]
  },
  {
   "cell_type": "code",
   "execution_count": 20,
   "metadata": {},
   "outputs": [
    {
     "data": {
      "text/plain": [
       "2.718281828459045"
      ]
     },
     "execution_count": 20,
     "metadata": {},
     "output_type": "execute_result"
    }
   ],
   "source": [
    "np.e"
   ]
  },
  {
   "cell_type": "code",
   "execution_count": 16,
   "metadata": {},
   "outputs": [
    {
     "data": {
      "text/plain": [
       "3.141592653589793"
      ]
     },
     "execution_count": 16,
     "metadata": {},
     "output_type": "execute_result"
    }
   ],
   "source": [
    "np.pi"
   ]
  },
  {
   "cell_type": "code",
   "execution_count": 17,
   "metadata": {},
   "outputs": [
    {
     "data": {
      "text/plain": [
       "0.69314718055994529"
      ]
     },
     "execution_count": 17,
     "metadata": {},
     "output_type": "execute_result"
    }
   ],
   "source": [
    "np.log(2)"
   ]
  },
  {
   "cell_type": "markdown",
   "metadata": {},
   "source": [
    "## ¿Qué es exactamente un array de Numpy?\n",
    "\n",
    "Un array de NumPy es la forma en la que se representarán vectores. Particularmente los vectores de Numpy están planteados para realizar operaciones automáticas sobre los índices, de forma rápida y eficiente, evitando bucles. Su definición es sencilla. \n",
    "\n",
    "Los arrays de NumPy son *homogéneos*, es decir, todos sus elementos son del mismo tipo. Si le pasamos a `np.array` una secuencia con objetos de tipos diferentes, promocionará todos al tipo con más información. Para acceder al tipo del array, podemos usar el atributo `dtype`.\n",
    "\n",
    "Observe el siguiente ejemplo, en el que se genera un vector de números enteros. \n"
   ]
  },
  {
   "cell_type": "code",
   "execution_count": 21,
   "metadata": {},
   "outputs": [
    {
     "name": "stdout",
     "output_type": "stream",
     "text": [
      "[1 2 3]\n",
      "int32\n"
     ]
    }
   ],
   "source": [
    "a= np.array([1, 2, 3])\n",
    "print(a)\n",
    "print(a.dtype)"
   ]
  },
  {
   "cell_type": "code",
   "execution_count": 22,
   "metadata": {},
   "outputs": [
    {
     "data": {
      "text/plain": [
       "numpy.ndarray"
      ]
     },
     "execution_count": 22,
     "metadata": {},
     "output_type": "execute_result"
    }
   ],
   "source": [
    "type(a)"
   ]
  },
  {
   "cell_type": "markdown",
   "metadata": {},
   "source": [
    "Observe el siguiente ejemplo, con tipos de número diferentes:"
   ]
  },
  {
   "cell_type": "code",
   "execution_count": 23,
   "metadata": {},
   "outputs": [
    {
     "name": "stdout",
     "output_type": "stream",
     "text": [
      "float64\n"
     ]
    }
   ],
   "source": [
    "a = np.array([1, 2, 3.0])\n",
    "print(a.dtype)"
   ]
  },
  {
   "cell_type": "markdown",
   "metadata": {},
   "source": [
    "Los arrays permiten realizar operaciones. Observe en los siguientes ejemplos los productos escalar y vectorial entre los vectores $\\vec{a}$ y $\\vec{b}$."
   ]
  },
  {
   "cell_type": "code",
   "execution_count": 24,
   "metadata": {},
   "outputs": [
    {
     "name": "stdout",
     "output_type": "stream",
     "text": [
      "El producto escalar es 32\n",
      "El producto vectorial es [-3  6 -3]\n"
     ]
    }
   ],
   "source": [
    "a = np.array([1,2,3])\n",
    "b = np.array([4,5,6])\n",
    "p_escalar= a.dot(b)\n",
    "p_vectorial = np.cross(a,b)\n",
    "\n",
    "print (\"El producto escalar es\", p_escalar)\n",
    "\n",
    "print (\"El producto vectorial es\", p_vectorial)"
   ]
  },
  {
   "cell_type": "markdown",
   "metadata": {},
   "source": [
    "En Mecánica, utilizaremos con frecuencia el producto escalar y vectorial. ¡ Vamos a practicar su uso con unos ejercicios!"
   ]
  },
  {
   "cell_type": "markdown",
   "metadata": {},
   "source": [
    "#### Ejercicios (uso del producto escalar y vectorial)\n",
    "\n",
    "1. Considere los vectores $\\vec{a} = \\vec{i} + 2 \\vec{j} - \\vec{k}$ y $\\vec{b} = -2 \\vec{i} + \\vec{j} +3 \\vec{k}$. Determine: \n",
    "\n",
    "a) Producto vectorial. \n",
    "b) Ángulo formado por los mismos. \n",
    "\n",
    "Solución: En primer lugar determinemos su producto vectorial. "
   ]
  },
  {
   "cell_type": "code",
   "execution_count": 25,
   "metadata": {},
   "outputs": [
    {
     "data": {
      "text/plain": [
       "array([ 7, -1,  5])"
      ]
     },
     "execution_count": 25,
     "metadata": {},
     "output_type": "execute_result"
    }
   ],
   "source": [
    "a = np.array([1,2,-1])\n",
    "b = np.array([-2,1,3])\n",
    "c = np.cross(a,b)\n",
    "c"
   ]
  },
  {
   "cell_type": "markdown",
   "metadata": {},
   "source": [
    "A continuación, mediante el producto escalar, y sabiendo que el producto escalar verifica: \n",
    "\n",
    "\\begin{equation}\n",
    "\\vec{a} \\cdot \\vec{b} = \\lvert \\vec{a} \\rvert \\, \\lvert \\vec{b} \\rvert \\, \\cos \\alpha\n",
    "\\end{equation}\n",
    "\n",
    "Podemos despejar el ángulo. Para calcular el módulo, utilizaremos la función: \n",
    "\n",
    "     np.linalg.norm\n",
    "     \n",
    "Obseve cómo funciona. A continuación se calculará el módulo de $\\vec{a}$ y se comparará con el valor calculado de forma analítica. \n"
   ]
  },
  {
   "cell_type": "code",
   "execution_count": 26,
   "metadata": {},
   "outputs": [
    {
     "name": "stdout",
     "output_type": "stream",
     "text": [
      "Modulo de a 2.44948974278\n",
      "Módulo calculado 2.44948974278\n"
     ]
    }
   ],
   "source": [
    "modulo_a = np.linalg.norm(a)\n",
    "print (\"Modulo de a\", modulo_a)\n",
    "modulo_calculado = np.sqrt(a[0]**2 + a[1]**2 + a[2] **2 ) # Atención: Python indexa desde el 0\n",
    "print (\"Módulo calculado\",modulo_calculado)"
   ]
  },
  {
   "cell_type": "markdown",
   "metadata": {},
   "source": [
    "A continuación se plantea el bloque de código completo que permite obtener el ángulo $\\theta$."
   ]
  },
  {
   "cell_type": "code",
   "execution_count": 27,
   "metadata": {},
   "outputs": [
    {
     "name": "stdout",
     "output_type": "stream",
     "text": [
      "Ángulo, en radianes\n"
     ]
    },
    {
     "data": {
      "text/plain": [
       "(None, 1.9042694990467288)"
      ]
     },
     "execution_count": 27,
     "metadata": {},
     "output_type": "execute_result"
    }
   ],
   "source": [
    "modulo_b = np.linalg.norm(b)\n",
    "pescalar = a.dot(b)\n",
    "coseno = pescalar / (modulo_a * modulo_b)\n",
    "alfa = np.arccos(coseno)\n",
    "print (\"Ángulo, en radianes\"), alfa "
   ]
  },
  {
   "cell_type": "markdown",
   "metadata": {},
   "source": [
    "Para pasar este valor a grados sexagesimales, puede hacerse de forma directa o empleando una función de Numpy. "
   ]
  },
  {
   "cell_type": "code",
   "execution_count": null,
   "metadata": {},
   "outputs": [],
   "source": [
    "np.degrees(alfa)"
   ]
  },
  {
   "cell_type": "code",
   "execution_count": null,
   "metadata": {},
   "outputs": [],
   "source": [
    "alfa*180/np.pi # De forma directa"
   ]
  },
  {
   "cell_type": "markdown",
   "metadata": {},
   "source": [
    "Aunque existan dos ángulos con el mismo coseno, esta forma de calcular el ángulo permite obtener el MENOR ángulo formado por ambos vectores."
   ]
  }
 ],
 "metadata": {
  "kernelspec": {
   "display_name": "Python 3",
   "language": "python",
   "name": "python3"
  },
  "language_info": {
   "codemirror_mode": {
    "name": "ipython",
    "version": 3
   },
   "file_extension": ".py",
   "mimetype": "text/x-python",
   "name": "python",
   "nbconvert_exporter": "python",
   "pygments_lexer": "ipython3",
   "version": "3.6.1"
  }
 },
 "nbformat": 4,
 "nbformat_minor": 2
}

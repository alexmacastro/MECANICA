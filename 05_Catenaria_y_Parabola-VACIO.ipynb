{
 "cells": [
  {
   "cell_type": "markdown",
   "metadata": {},
   "source": [
    "# Catenaria y Parábola\n",
    "\n",
    "## Mecánica para Ingenieros. Grado en Ingeniería Civil. \n",
    "\n",
    "+ Alejandro E. Martínez Castro (Desarrollador principal, email:amcastro@ugr.es).\n",
    "+ Germán Rodríguez Salido.\n",
    "+ Manuel Chiachío Ruano\n",
    "+ Rafael Bravo Pareja.\n",
    "+ Rafael Muñoz Beltrán. \n",
    "+ Gracia Rodríguez Jerónimo.\n",
    "\n",
    "_Departamento de Mecánica de Estructuras e Ingeniería Hidráulica_\n",
    "\n",
    "_Universidad de Granada_\n",
    "\n",
    "\n",
    "<a rel=\"license\" href=\"http://creativecommons.org/licenses/by-nc/4.0/\"><img alt=\"Licencia de Creative Commons\" style=\"border-width:0\" src=\"https://i.creativecommons.org/l/by-nc/4.0/88x31.png\" /></a><br />Este obra está bajo una <a rel=\"license\" href=\"http://creativecommons.org/licenses/by-nc/4.0/\">licencia de Creative Commons Reconocimiento-NoComercial 4.0 Internacional</a>."
   ]
  },
  {
   "cell_type": "markdown",
   "metadata": {},
   "source": [
    "# Objetivos de este cuaderno\n",
    "\n",
    "- Uso de NumPy y solvers de raíces no lineales en problemas de catenarias.  \n",
    "- Uso de SymPy para integración analítica y expansión en serie"
   ]
  },
  {
   "cell_type": "markdown",
   "metadata": {},
   "source": [
    "# Catenaria\n",
    "## Catenaria definida por dos puntos a la misma altura\n",
    "\n",
    "Supongamos que conocemos: \n",
    "\n",
    "- Luz $l$. \n",
    "- Flecha $f$.\n",
    "\n",
    "Deseamos determinar la ecuación de la catenaria. $$y(x) = c \\,\\cosh \\left(\\dfrac{l}{2c} \\right)$$\n",
    "\n",
    "En clase se ha visto que para resolver este problema, debemos resolver esta ecuación: \n",
    "\n",
    "\\begin{equation}\n",
    "f + c = c \\,\\cosh \\left( \\dfrac{l}{2\\,c}\\right)\n",
    "\\end{equation}\n",
    "\n",
    "y de aquí, resolver el valor de $c$. \n",
    "\n",
    "Esto puede hacerse, en general, mediante métodos numéricos, como el [Método de Newton-Raphson](https://es.wikipedia.org/wiki/M%C3%A9todo_de_Newton). \n",
    "\n",
    "Veamos a continuación cómo implementar este problema en Python."
   ]
  },
  {
   "cell_type": "code",
   "execution_count": 1,
   "metadata": {
    "collapsed": true
   },
   "outputs": [],
   "source": [
    "import numpy as np\n",
    "\n",
    "def funcion(c):\n",
    "    return f + c - c*np.cosh(l/(2*c))"
   ]
  },
  {
   "cell_type": "markdown",
   "metadata": {},
   "source": [
    "A continuación utilizaremos el método de Newton Raphson con unos datos. Esto puede hacerse directamente utilizando una función específica, ya implementada en la librería de cálculo científico `SciPy`, y a su vez, dentro de `Optimize`.\n",
    "\n",
    "Para encontrar esta información, basta entrar en Google y escribir \"Solve Newton Raphson python\". Uno de los enlaces lleva a la [ayuda directa de SciPy](https://docs.scipy.org/doc/scipy/reference/generated/scipy.optimize.newton.html)"
   ]
  },
  {
   "cell_type": "code",
   "execution_count": 7,
   "metadata": {},
   "outputs": [
    {
     "data": {
      "text/plain": [
       "10.743201882596088"
      ]
     },
     "execution_count": 7,
     "metadata": {},
     "output_type": "execute_result"
    }
   ],
   "source": [
    "from scipy import optimize\n",
    "\n",
    "f = 5\n",
    "l = 20\n",
    "c0 = 1 # Punto inicial de prueba para inicializar el método de Newton-Raphson\n",
    "c_catenaria = optimize.newton(funcion, c0)\n",
    "c_catenaria"
   ]
  },
  {
   "cell_type": "markdown",
   "metadata": {},
   "source": [
    "A continuación verificaremos que, en efecto, la catenaria pasa por el punto"
   ]
  },
  {
   "cell_type": "code",
   "execution_count": 3,
   "metadata": {
    "collapsed": true
   },
   "outputs": [],
   "source": [
    "def catenaria(x):\n",
    "    return c_catenaria * np.cosh (x / c_catenaria)"
   ]
  },
  {
   "cell_type": "markdown",
   "metadata": {},
   "source": [
    "Evaluemos el valor de la catenaria en $x=l/2$:"
   ]
  },
  {
   "cell_type": "code",
   "execution_count": 4,
   "metadata": {},
   "outputs": [
    {
     "data": {
      "text/plain": [
       "15.743201882596095"
      ]
     },
     "execution_count": 4,
     "metadata": {},
     "output_type": "execute_result"
    }
   ],
   "source": [
    "catenaria(l/2) "
   ]
  },
  {
   "cell_type": "markdown",
   "metadata": {},
   "source": [
    "Nótese que este valor debe coincidir precisamente con el valor $f + c$. "
   ]
  },
  {
   "cell_type": "code",
   "execution_count": 5,
   "metadata": {},
   "outputs": [
    {
     "data": {
      "text/plain": [
       "15.743201882596088"
      ]
     },
     "execution_count": 5,
     "metadata": {},
     "output_type": "execute_result"
    }
   ],
   "source": [
    "f + c_catenaria"
   ]
  },
  {
   "cell_type": "markdown",
   "metadata": {},
   "source": [
    "Y en efecto, coincide. \n",
    "\n",
    "Pruebe modificar, a modo de laboratorio numérico, los datos de partida, o el punto inicial del método. \n",
    "\n",
    "En este ejemplo puede comprobar que lo importante como usuario es saber buscar la información que lleve a la librería adecuada que realice la función matemática que se desea realizar. Es importante también saber chequear que los resultados obtenidos son coherentes, y esto es algo que debe hacerse con cualquier método numérico. \n",
    "\n",
    "Python proporciona herramientas eficientes, a través de librerías específicas, para cada caso. \n",
    "\n",
    "Antes de implementar por sí mismo un método, pruebe si ya existe ese método en las librerías del ecosistema de Python, preguntando en un buscador como Google. Si lo está, que es habitua, ahorrará tiempo y recursos. \n"
   ]
  },
  {
   "cell_type": "markdown",
   "metadata": {},
   "source": [
    "## Catenaria que pasa por dos puntos a distinta altura\n",
    "\n",
    "Consideremos que son dato: \n",
    "- La diferencia de coordenadas $x$ de los puntos: $x_B-x_A = l$\n",
    "- La diferencia de coordenadas $y$ de los puntos: $y_B-y_A = \\Delta y$\n",
    "- La longitud total del hilo $L$\n",
    "\n",
    "La forma de proceder es la siguiente: consideremos el problema resuelto, y que la catenaria tiene por solución: \n",
    "\n",
    "\\begin{equation}\n",
    "y(x) = c \\,\\cosh(\\frac{x}{c})\n",
    "\\end{equation}\n",
    "\n",
    "Si $x_B$ es la abscisa del punto $B$, la del punto $A$ será $x_A = x_B - l$. \n",
    "\n",
    "Considerando como incógnitas $x_B$ y $c$, pueden plantearse dos ecuaciones:\n",
    "\n",
    "\\begin{align}\n",
    "\\Delta y & = c\\,\\cosh(\\frac{x_B}{l}) - c \\,\\cosh({x_B - l}{c}) \\\\\n",
    "L & = c\\,\\sinh(\\frac{x_B}{l}) - c \\,\\sinh({x_B - l}{c})\n",
    "\\end{align}\n",
    "\n",
    "Estas dos ecuaciones pueden resolverse a la vez, mediante un solver no lineal. \n",
    "\n",
    "A continuación se planteará un caso"
   ]
  },
  {
   "cell_type": "code",
   "execution_count": 8,
   "metadata": {
    "collapsed": true
   },
   "outputs": [],
   "source": [
    "longitud = 10 # Longitud de la catenaria: debe ser mayor que la distancia (xB-XA)\n",
    "l = 8 # Distancia xB - XA\n",
    "dy = 2 # Distancia yB - yA\n",
    "\n",
    "# x = x de B\n",
    "def lon(c,x):\n",
    "    return longitud - ( c * np.sinh(x/c) - c * np.sinh((x - l)/c) )\n",
    "\n",
    "def dify(c,x):\n",
    "    return dy - ( c * np.cosh(x / c) - c * np.cosh((x-l)/c) )\n",
    "\n",
    "def equations(p):\n",
    "    c, x = p\n",
    "    return (lon(c,x), dify(c,x))"
   ]
  },
  {
   "cell_type": "markdown",
   "metadata": {},
   "source": [
    "En esta ocasión se realizará una optimización de las dos funciones a la vez, mediante `fsolve´"
   ]
  },
  {
   "cell_type": "code",
   "execution_count": 9,
   "metadata": {},
   "outputs": [
    {
     "name": "stdout",
     "output_type": "stream",
     "text": [
      "3.55518654097 4.72075204759\n"
     ]
    }
   ],
   "source": [
    "from scipy.optimize import fsolve\n",
    "c_sol, x_b =  fsolve(equations, (1, 1))\n",
    "print(c_sol, x_b)"
   ]
  },
  {
   "cell_type": "markdown",
   "metadata": {},
   "source": [
    "Y una vez resuelto $c$ y $x_B$, puede obtenerse la coordenada $x_A$. "
   ]
  },
  {
   "cell_type": "code",
   "execution_count": 10,
   "metadata": {},
   "outputs": [
    {
     "name": "stdout",
     "output_type": "stream",
     "text": [
      "3.27924795241\n"
     ]
    }
   ],
   "source": [
    "xA = l - x_b\n",
    "print (xA)"
   ]
  },
  {
   "cell_type": "markdown",
   "metadata": {},
   "source": [
    "# Parábola. "
   ]
  },
  {
   "cell_type": "code",
   "execution_count": 11,
   "metadata": {},
   "outputs": [
    {
     "name": "stdout",
     "output_type": "stream",
     "text": [
      "IPython console for SymPy 1.0 (Python 3.6.1-64-bit) (ground types: python)\n",
      "\n",
      "These commands were executed:\n",
      ">>> from __future__ import division\n",
      ">>> from sympy import *\n",
      ">>> x, y, z, t = symbols('x y z t')\n",
      ">>> k, m, n = symbols('k m n', integer=True)\n",
      ">>> f, g, h = symbols('f g h', cls=Function)\n",
      ">>> init_printing()\n",
      "\n",
      "Documentation can be found at http://docs.sympy.org/1.0/\n"
     ]
    }
   ],
   "source": [
    "from sympy import init_session\n",
    "init_session(use_latex=True)"
   ]
  },
  {
   "cell_type": "markdown",
   "metadata": {},
   "source": [
    "En primer lugar, definiremos los símbolos, adicionales a los que SymPy ha cargado por defecto"
   ]
  },
  {
   "cell_type": "code",
   "execution_count": 12,
   "metadata": {
    "collapsed": true
   },
   "outputs": [],
   "source": [
    "c, T0, P0 = symbols('c,T_0,P_0') "
   ]
  },
  {
   "cell_type": "code",
   "execution_count": 13,
   "metadata": {},
   "outputs": [
    {
     "data": {
      "image/png": "[encoded data removed]",
      "text/latex": [
       "$$T_{0}$$"
      ],
      "text/plain": [
       "T₀"
      ]
     },
     "execution_count": 13,
     "metadata": {},
     "output_type": "execute_result"
    }
   ],
   "source": [
    "T0"
   ]
  },
  {
   "cell_type": "markdown",
   "metadata": {},
   "source": [
    "Definiremos la función $y(x)$"
   ]
  },
  {
   "cell_type": "code",
   "execution_count": 14,
   "metadata": {
    "collapsed": true
   },
   "outputs": [],
   "source": [
    "y = 1 / (2*c)* x** 2"
   ]
  },
  {
   "cell_type": "code",
   "execution_count": 15,
   "metadata": {},
   "outputs": [
    {
     "data": {
      "image/png": "[encoded data removed]",
      "text/latex": [
       "$$\\frac{x^{2}}{2 c}$$"
      ],
      "text/plain": [
       "  2\n",
       " x \n",
       "───\n",
       "2⋅c"
      ]
     },
     "execution_count": 15,
     "metadata": {},
     "output_type": "execute_result"
    }
   ],
   "source": [
    "y"
   ]
  },
  {
   "cell_type": "markdown",
   "metadata": {},
   "source": [
    "La pendiente se obtendrá por derivación:"
   ]
  },
  {
   "cell_type": "code",
   "execution_count": 16,
   "metadata": {},
   "outputs": [
    {
     "data": {
      "image/png": "[encoded data removed]",
      "text/latex": [
       "$$\\frac{x}{c}$$"
      ],
      "text/plain": [
       "x\n",
       "─\n",
       "c"
      ]
     },
     "execution_count": 16,
     "metadata": {},
     "output_type": "execute_result"
    }
   ],
   "source": [
    "diff(y,x)"
   ]
  },
  {
   "cell_type": "markdown",
   "metadata": {},
   "source": [
    "La longitud del arco se obtendrá por integración: \n",
    "\n",
    "\\begin{equation}\n",
    "s = \\int_{0}^{x} \\sqrt{1 + (y'(x))^2}\\,dx\n",
    "\\end{equation}"
   ]
  },
  {
   "cell_type": "code",
   "execution_count": 17,
   "metadata": {
    "collapsed": true
   },
   "outputs": [],
   "source": [
    "import sympy\n",
    "expr = sqrt(1 + diff(y,x)**2)"
   ]
  },
  {
   "cell_type": "code",
   "execution_count": 18,
   "metadata": {},
   "outputs": [
    {
     "data": {
      "image/png": "[encoded data removed]",
      "text/latex": [
       "$$\\sqrt{1 + \\frac{x^{2}}{c^{2}}}$$"
      ],
      "text/plain": [
       "      ________\n",
       "     ╱      2 \n",
       "    ╱      x  \n",
       "   ╱   1 + ── \n",
       "  ╱         2 \n",
       "╲╱         c  "
      ]
     },
     "execution_count": 18,
     "metadata": {},
     "output_type": "execute_result"
    }
   ],
   "source": [
    "expr"
   ]
  },
  {
   "cell_type": "code",
   "execution_count": 19,
   "metadata": {
    "collapsed": true
   },
   "outputs": [],
   "source": [
    "arco = integrate(expr,x)"
   ]
  },
  {
   "cell_type": "code",
   "execution_count": 20,
   "metadata": {},
   "outputs": [
    {
     "data": {
      "image/png": "[encoded data removed]",
      "text/latex": [
       "$$\\frac{c}{2} \\operatorname{asinh}{\\left (\\frac{x}{c} \\right )} + \\frac{x}{2} \\sqrt{1 + \\frac{x^{2}}{c^{2}}}$$"
      ],
      "text/plain": [
       "                     ________\n",
       "                    ╱      2 \n",
       "                   ╱      x  \n",
       "       ⎛x⎞   x⋅   ╱   1 + ── \n",
       "c⋅asinh⎜─⎟       ╱         2 \n",
       "       ⎝c⎠     ╲╱         c  \n",
       "────────── + ────────────────\n",
       "    2               2        "
      ]
     },
     "execution_count": 20,
     "metadata": {},
     "output_type": "execute_result"
    }
   ],
   "source": [
    "arco"
   ]
  },
  {
   "cell_type": "code",
   "execution_count": 22,
   "metadata": {},
   "outputs": [
    {
     "name": "stdout",
     "output_type": "stream",
     "text": [
      "c*asinh(x/c)/2 + x*sqrt(1 + x**2/c**2)/2\n"
     ]
    }
   ],
   "source": [
    "print (barco)"
   ]
  },
  {
   "cell_type": "markdown",
   "metadata": {},
   "source": [
    "Puede verse que la expresión anterior coincide con la expresión vista en la asignatura, puesto que\n",
    "\n",
    "\\begin{equation}\n",
    "\\mathrm{asinh}\\left(\\dfrac{x}{c} \\right) = \\mathrm{ln} \\left(\\dfrac{x}{c} + \\sqrt{1 + \\left(\\dfrac{x}{c}\\right)^2} \\right)\n",
    "\\end{equation}\n",
    "\n",
    "Como puede verse en [este enlace a Wikipedia](https://es.wikipedia.org/wiki/Funci%C3%B3n_hiperb%C3%B3lica#Derivaci.C3.B3n_e_integraci.C3.B3n)"
   ]
  },
  {
   "cell_type": "markdown",
   "metadata": {},
   "source": [
    "Podemos obtener una expansión en serie en torno a $x=0$, "
   ]
  },
  {
   "cell_type": "code",
   "execution_count": 23,
   "metadata": {},
   "outputs": [
    {
     "data": {
      "image/png": "[encoded data removed]",
      "text/latex": [
       "$$- \\frac{x^{5}}{40 c^{4}} + \\frac{x^{3}}{6 c^{2}} + x + \\mathcal{O}\\left(x^{6}\\right)$$"
      ],
      "text/plain": [
       "     5      3             \n",
       "    x      x          ⎛ 6⎞\n",
       "- ───── + ──── + x + O⎝x ⎠\n",
       "      4      2            \n",
       "  40⋅c    6⋅c             "
      ]
     },
     "execution_count": 23,
     "metadata": {},
     "output_type": "execute_result"
    }
   ],
   "source": [
    "series(arco,x)"
   ]
  },
  {
   "cell_type": "markdown",
   "metadata": {},
   "source": [
    "Nótese que esta expresión coincide con la expansión vista en la asignatura"
   ]
  },
  {
   "cell_type": "markdown",
   "metadata": {},
   "source": [
    "## Expansión en serie de una catenaria\n",
    "\n",
    "Con el comando `series` podemos encontrar también la expansión en serie de una catenaria. \n",
    "   "
   ]
  },
  {
   "cell_type": "code",
   "execution_count": 24,
   "metadata": {},
   "outputs": [
    {
     "data": {
      "image/png": "[encoded data removed]",
      "text/latex": [
       "$$\\frac{x^{4}}{24 c^{3}} + \\frac{x^{2}}{2 c} + c + \\mathcal{O}\\left(x^{6}\\right)$$"
      ],
      "text/plain": [
       "   4      2            \n",
       "  x      x         ⎛ 6⎞\n",
       "───── + ─── + c + O⎝x ⎠\n",
       "    3   2⋅c            \n",
       "24⋅c                   "
      ]
     },
     "execution_count": 24,
     "metadata": {},
     "output_type": "execute_result"
    }
   ],
   "source": [
    "series(c*cosh(x/c),x)"
   ]
  },
  {
   "cell_type": "markdown",
   "metadata": {},
   "source": [
    "Se observa que la expansión hasta orden cuadrático es: \n",
    "\n",
    "\\begin{equation}\n",
    "y = c + \\dfrac{x^2}{2\\,c}\n",
    "\\end{equation}\n",
    "\n",
    "y basta una adecuada elección del origen de abscisas (colocándolo en el vértice) para obtener la conocida expresión de la parábola: \n",
    "\n",
    "\\begin{equation}\n",
    "y(x) = \\dfrac{x^2}{2\\,c}\n",
    "\\end{equation}"
   ]
  },
  {
   "cell_type": "code",
   "execution_count": null,
   "metadata": {
    "collapsed": true
   },
   "outputs": [],
   "source": []
  }
 ],
 "metadata": {
  "kernelspec": {
   "display_name": "Python 3",
   "language": "python",
   "name": "python3"
  },
  "language_info": {
   "codemirror_mode": {
    "name": "ipython",
    "version": 3
   },
   "file_extension": ".py",
   "mimetype": "text/x-python",
   "name": "python",
   "nbconvert_exporter": "python",
   "pygments_lexer": "ipython3",
   "version": "3.6.1"
  }
 },
 "nbformat": 4,
 "nbformat_minor": 2
}

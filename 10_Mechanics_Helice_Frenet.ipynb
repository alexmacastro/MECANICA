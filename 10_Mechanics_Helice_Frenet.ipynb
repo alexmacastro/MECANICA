{
 "cells": [
  {
   "cell_type": "markdown",
   "metadata": {},
   "source": [
    "## Triedro de Frenet en una hélice\n",
    "\n",
    "## Mecánica para Ingenieros. Grado en Ingeniería Civil. \n",
    "\n",
    "\n",
    "+ Alejandro E. Martínez Castro (email:amcastro@ugr.es).\n",
    "\n",
    "\n",
    "_Departamento de Mecánica de Estructuras e Ingeniería Hidráulica_\n",
    "\n",
    "_Universidad de Granada_\n",
    "\n",
    "\n",
    "<a rel=\"license\" href=\"http://creativecommons.org/licenses/by-nc/4.0/\"><img alt=\"Licencia de Creative Commons\" style=\"border-width:0\" src=\"https://i.creativecommons.org/l/by-nc/4.0/88x31.png\" /></a><br />Este obra está bajo una <a rel=\"license\" href=\"http://creativecommons.org/licenses/by-nc/4.0/\">licencia de Creative Commons Reconocimiento-NoComercial 4.0 Internacional</a>."
   ]
  },
  {
   "cell_type": "markdown",
   "metadata": {},
   "source": [
    "# Objetivos de este cuaderno\n",
    "\n",
    "- Mostrar el cálculo simbólico de diferentes expresiones en torno a una hélice"
   ]
  },
  {
   "cell_type": "code",
   "execution_count": 1,
   "metadata": {},
   "outputs": [],
   "source": [
    "from sympy import *\n",
    "init_printing()"
   ]
  },
  {
   "cell_type": "code",
   "execution_count": 2,
   "metadata": {},
   "outputs": [],
   "source": [
    "from sympy.physics.mechanics import ReferenceFrame"
   ]
  },
  {
   "cell_type": "code",
   "execution_count": 3,
   "metadata": {},
   "outputs": [
    {
     "data": {
      "image/png": "[encoded data removed]",
      "text/latex": [
       "$\\displaystyle \\mathbf{\\hat{a}_x}$"
      ],
      "text/plain": [
       "a_x"
      ]
     },
     "execution_count": 3,
     "metadata": {},
     "output_type": "execute_result"
    }
   ],
   "source": [
    "A = ReferenceFrame(\"A\")\n",
    "A.x"
   ]
  },
  {
   "cell_type": "code",
   "execution_count": 4,
   "metadata": {},
   "outputs": [],
   "source": [
    "# Definimos nuestra propia clase para que los versores sean IJK\n",
    "class IJKReferenceFrame(ReferenceFrame):\n",
    "    def __init__(self, name=\"\"):\n",
    "        super(IJKReferenceFrame,self).__init__(name, latexs=['\\overrightarrow{%s}_{%s}' % (idx, name) for idx in (\"i\", \"j\", \"k\")])\n",
    "        self.i = self.x\n",
    "        self.j = self.y\n",
    "        self.k = self.z"
   ]
  },
  {
   "cell_type": "code",
   "execution_count": 5,
   "metadata": {},
   "outputs": [
    {
     "data": {
      "image/png": "[encoded data removed]",
      "text/latex": [
       "$\\displaystyle \\overrightarrow{i}_{} + \\overrightarrow{j}_{} + \\overrightarrow{k}_{}$"
      ],
      "text/plain": [
       "_x + _y + _z"
      ]
     },
     "execution_count": 5,
     "metadata": {},
     "output_type": "execute_result"
    }
   ],
   "source": [
    "A = IJKReferenceFrame()\n",
    "A.i + A.j + A.k"
   ]
  },
  {
   "cell_type": "code",
   "execution_count": 6,
   "metadata": {},
   "outputs": [
    {
     "data": {
      "image/png": "[encoded data removed]",
      "text/latex": [
       "$\\displaystyle \\theta$"
      ],
      "text/plain": [
       "θ"
      ]
     },
     "execution_count": 6,
     "metadata": {},
     "output_type": "execute_result"
    }
   ],
   "source": [
    "theta = symbols('theta', real = True)\n",
    "theta"
   ]
  },
  {
   "cell_type": "code",
   "execution_count": 7,
   "metadata": {},
   "outputs": [
    {
     "data": {
      "image/png": "[encoded data removed]",
      "text/latex": [
       "$\\displaystyle a \\operatorname{cos}\\left(\\theta\\right)\\overrightarrow{i}_{} + a \\operatorname{sin}\\left(\\theta\\right)\\overrightarrow{j}_{} + k \\theta\\overrightarrow{k}_{}$"
      ],
      "text/plain": [
       "a⋅cos(θ) _x + a⋅sin(θ) _y + k⋅θ _z"
      ]
     },
     "execution_count": 7,
     "metadata": {},
     "output_type": "execute_result"
    }
   ],
   "source": [
    "a, k = symbols('a, k', positive = True, real = True) \n",
    "r = a * cos(theta) * A.x + a * sin(theta) * A.y + k * theta * A.z\n",
    "r"
   ]
  },
  {
   "cell_type": "code",
   "execution_count": 8,
   "metadata": {},
   "outputs": [],
   "source": [
    "from sympy.physics.mechanics import dot, cross # Para realizar producto escalar y vectorial"
   ]
  },
  {
   "cell_type": "code",
   "execution_count": 9,
   "metadata": {},
   "outputs": [
    {
     "data": {
      "image/png": "[encoded data removed]",
      "text/latex": [
       "$\\displaystyle -  a \\operatorname{sin}\\left(\\theta\\right)\\overrightarrow{i}_{} + a \\operatorname{cos}\\left(\\theta\\right)\\overrightarrow{j}_{} + k\\overrightarrow{k}_{}$"
      ],
      "text/plain": [
       "-a⋅sin(θ) _x + a⋅cos(θ) _y + k _z"
      ]
     },
     "execution_count": 9,
     "metadata": {},
     "output_type": "execute_result"
    }
   ],
   "source": [
    "rp=r.diff(theta,A)\n",
    "rp"
   ]
  },
  {
   "cell_type": "code",
   "execution_count": 10,
   "metadata": {},
   "outputs": [],
   "source": [
    "rpp  = rp.diff(theta,A)\n",
    "rppp = rpp.diff(theta,A)"
   ]
  },
  {
   "cell_type": "code",
   "execution_count": 11,
   "metadata": {},
   "outputs": [
    {
     "data": {
      "image/png": "[encoded data removed]",
      "text/latex": [
       "$\\displaystyle -  a \\operatorname{cos}\\left(\\theta\\right)\\overrightarrow{i}_{} -  a \\operatorname{sin}\\left(\\theta\\right)\\overrightarrow{j}_{}$"
      ],
      "text/plain": [
       "-a⋅cos(θ) _x + -a⋅sin(θ) _y"
      ]
     },
     "execution_count": 11,
     "metadata": {},
     "output_type": "execute_result"
    }
   ],
   "source": [
    "rpp"
   ]
  },
  {
   "cell_type": "code",
   "execution_count": 12,
   "metadata": {},
   "outputs": [
    {
     "data": {
      "image/png": "[encoded data removed]",
      "text/latex": [
       "$\\displaystyle a \\operatorname{sin}\\left(\\theta\\right)\\overrightarrow{i}_{} -  a \\operatorname{cos}\\left(\\theta\\right)\\overrightarrow{j}_{}$"
      ],
      "text/plain": [
       "a⋅sin(θ) _x + -a⋅cos(θ) _y"
      ]
     },
     "execution_count": 12,
     "metadata": {},
     "output_type": "execute_result"
    }
   ],
   "source": [
    "rppp"
   ]
  },
  {
   "cell_type": "markdown",
   "metadata": {},
   "source": [
    "## Vector tangente"
   ]
  },
  {
   "cell_type": "code",
   "execution_count": 13,
   "metadata": {},
   "outputs": [
    {
     "data": {
      "image/png": "[encoded data removed]",
      "text/latex": [
       "$\\displaystyle -  \\frac{a \\operatorname{sin}\\left(\\theta\\right)}{\\sqrt{a^{2} \\operatorname{sin}^{2}\\left(\\theta\\right) + a^{2} \\operatorname{cos}^{2}\\left(\\theta\\right) + k^{2}}}\\overrightarrow{i}_{} + \\frac{a \\operatorname{cos}\\left(\\theta\\right)}{\\sqrt{a^{2} \\operatorname{sin}^{2}\\left(\\theta\\right) + a^{2} \\operatorname{cos}^{2}\\left(\\theta\\right) + k^{2}}}\\overrightarrow{j}_{} + \\frac{k}{\\sqrt{a^{2} \\operatorname{sin}^{2}\\left(\\theta\\right) + a^{2} \\operatorname{cos}^{2}\\left(\\theta\\right) + k^{2}}}\\overrightarrow{k}_{}$"
      ],
      "text/plain": [
       "            -a⋅sin(θ)                               a⋅cos(θ)\n",
       "───────────────────────────────── _x + ───────────────────────────────── _y +\n",
       "   ______________________________         ______________________________\n",
       "  ╱  2    2       2    2       2         ╱  2    2       2    2       2\n",
       "╲╱  a ⋅sin (θ) + a ⋅cos (θ) + k        ╲╱  a ⋅sin (θ) + a ⋅cos (θ) + k\n",
       "\n",
       "                k\n",
       "───────────────────────────────── _z\n",
       "   ______________________________\n",
       "  ╱  2    2       2    2       2\n",
       "╲╱  a ⋅sin (θ) + a ⋅cos (θ) + k"
      ]
     },
     "execution_count": 13,
     "metadata": {},
     "output_type": "execute_result"
    }
   ],
   "source": [
    "tau = symbols('tau', real = True)\n",
    "tau = rp.normalize()\n",
    "tau"
   ]
  },
  {
   "cell_type": "code",
   "execution_count": 14,
   "metadata": {},
   "outputs": [
    {
     "data": {
      "image/png": "[encoded data removed]",
      "text/latex": [
       "$\\displaystyle -  \\frac{a \\operatorname{sin}\\left(\\theta\\right)}{\\sqrt{a^{2} + k^{2}}}\\overrightarrow{i}_{} + \\frac{a \\operatorname{cos}\\left(\\theta\\right)}{\\sqrt{a^{2} + k^{2}}}\\overrightarrow{j}_{} + \\frac{k}{\\sqrt{a^{2} + k^{2}}}\\overrightarrow{k}_{}$"
      ],
      "text/plain": [
       " -a⋅sin(θ)          a⋅cos(θ)             k\n",
       "──────────── _x + ──────────── _y + ──────────── _z\n",
       "   _________         _________         _________\n",
       "  ╱  2    2         ╱  2    2         ╱  2    2\n",
       "╲╱  a  + k        ╲╱  a  + k        ╲╱  a  + k"
      ]
     },
     "execution_count": 14,
     "metadata": {},
     "output_type": "execute_result"
    }
   ],
   "source": [
    "tau.simplify()"
   ]
  },
  {
   "cell_type": "markdown",
   "metadata": {},
   "source": [
    "## Vector binormal"
   ]
  },
  {
   "cell_type": "code",
   "execution_count": 15,
   "metadata": {},
   "outputs": [
    {
     "data": {
      "image/png": "[encoded data removed]",
      "text/latex": [
       "$\\displaystyle \\frac{k \\operatorname{sin}\\left(\\theta\\right)}{\\sqrt{a^{2} + k^{2}}}\\overrightarrow{i}_{} -  \\frac{k \\operatorname{cos}\\left(\\theta\\right)}{\\sqrt{a^{2} + k^{2}}}\\overrightarrow{j}_{} + \\frac{a}{\\sqrt{a^{2} + k^{2}}}\\overrightarrow{k}_{}$"
      ],
      "text/plain": [
       "  k⋅sin(θ)         -k⋅cos(θ)             a\n",
       "──────────── _x + ──────────── _y + ──────────── _z\n",
       "   _________         _________         _________\n",
       "  ╱  2    2         ╱  2    2         ╱  2    2\n",
       "╲╱  a  + k        ╲╱  a  + k        ╲╱  a  + k"
      ]
     },
     "execution_count": 15,
     "metadata": {},
     "output_type": "execute_result"
    }
   ],
   "source": [
    "beta = (rp ^ rpp).normalize()\n",
    "beta.simplify()"
   ]
  },
  {
   "cell_type": "markdown",
   "metadata": {},
   "source": [
    "## Vector normal"
   ]
  },
  {
   "cell_type": "code",
   "execution_count": 16,
   "metadata": {},
   "outputs": [
    {
     "data": {
      "image/png": "[encoded data removed]",
      "text/latex": [
       "$\\displaystyle -  \\frac{\\left(a^{2} + k^{2}\\right) \\operatorname{cos}\\left(\\theta\\right)}{\\sqrt{a^{4} \\operatorname{sin}^{6}\\left(\\theta\\right) - 3 a^{4} \\operatorname{sin}^{4}\\left(\\theta\\right) + 3 a^{4} \\operatorname{sin}^{2}\\left(\\theta\\right) + a^{4} \\operatorname{cos}^{6}\\left(\\theta\\right) + 2 a^{2} k^{2} + k^{4}}}\\overrightarrow{i}_{} -  \\frac{\\left(a^{2} + k^{2}\\right) \\operatorname{sin}\\left(\\theta\\right)}{\\sqrt{a^{4} \\operatorname{sin}^{6}\\left(\\theta\\right) - 3 a^{4} \\operatorname{sin}^{4}\\left(\\theta\\right) + 3 a^{4} \\operatorname{sin}^{2}\\left(\\theta\\right) + a^{4} \\operatorname{cos}^{6}\\left(\\theta\\right) + 2 a^{2} k^{2} + k^{4}}}\\overrightarrow{j}_{}$"
      ],
      "text/plain": [
       "                             ⎛ 2    2⎞\n",
       "                            -⎝a  + k ⎠⋅cos(θ)\n",
       "───────────────────────────────────────────────────────────────────────── _x +\n",
       "   ______________________________________________________________________\n",
       "  ╱  4    6         4    4         4    2       4    6         2  2    4\n",
       "╲╱  a ⋅sin (θ) - 3⋅a ⋅sin (θ) + 3⋅a ⋅sin (θ) + a ⋅cos (θ) + 2⋅a ⋅k  + k\n",
       "\n",
       "                              ⎛ 2    2⎞\n",
       "                             -⎝a  + k ⎠⋅sin(θ)\n",
       " ───────────────────────────────────────────────────────────────────────── _y\n",
       "    ______________________________________________________________________\n",
       "   ╱  4    6         4    4         4    2       4    6         2  2    4\n",
       " ╲╱  a ⋅sin (θ) - 3⋅a ⋅sin (θ) + 3⋅a ⋅sin (θ) + a ⋅cos (θ) + 2⋅a ⋅k  + k"
      ]
     },
     "execution_count": 16,
     "metadata": {},
     "output_type": "execute_result"
    }
   ],
   "source": [
    "nu = beta ^ tau\n",
    "nu.simplify()\n"
   ]
  },
  {
   "cell_type": "code",
   "execution_count": 17,
   "metadata": {},
   "outputs": [
    {
     "data": {
      "image/png": "[encoded data removed]",
      "text/latex": [
       "$\\displaystyle -  \\operatorname{cos}\\left(\\theta\\right)\\overrightarrow{i}_{} -  \\operatorname{sin}\\left(\\theta\\right)\\overrightarrow{j}_{}$"
      ],
      "text/plain": [
       "-cos(θ) _x + -sin(θ) _y"
      ]
     },
     "execution_count": 17,
     "metadata": {},
     "output_type": "execute_result"
    }
   ],
   "source": [
    "nu2 = rp ^ rpp\n",
    "nu2 = nu2 ^ rp\n",
    "nu2 = nu2.normalize()\n",
    "nu2.simplify()"
   ]
  },
  {
   "cell_type": "code",
   "execution_count": null,
   "metadata": {},
   "outputs": [],
   "source": [
    "tau = tau.simplify()\n",
    "nu = nu.simplify\n",
    "nu3 = beta ^tau\n",
    "nu3.simplify()"
   ]
  },
  {
   "cell_type": "markdown",
   "metadata": {},
   "source": [
    "# Cálculo de la curvatura"
   ]
  },
  {
   "cell_type": "code",
   "execution_count": 18,
   "metadata": {},
   "outputs": [
    {
     "data": {
      "image/png": "[encoded data removed]",
      "text/latex": [
       "$\\displaystyle \\frac{a}{a^{2} + k^{2}}$"
      ],
      "text/plain": [
       "   a   \n",
       "───────\n",
       " 2    2\n",
       "a  + k "
      ]
     },
     "execution_count": 18,
     "metadata": {},
     "output_type": "execute_result"
    }
   ],
   "source": [
    "curv = (rp ^ rpp).magnitude() / rp.magnitude() **3\n",
    "curv.simplify()"
   ]
  },
  {
   "cell_type": "markdown",
   "metadata": {},
   "source": [
    "Como sospechábamos, la hélice es una curva de curvatura constante en todos sus puntos. Además, si k vale cero, la epresión anterior tiende $\\dfrac{1}{a}$, que coincide con la curvatura de una circunferencia."
   ]
  },
  {
   "cell_type": "markdown",
   "metadata": {},
   "source": [
    "## Cálculo de la torsión"
   ]
  },
  {
   "cell_type": "code",
   "execution_count": 19,
   "metadata": {},
   "outputs": [
    {
     "data": {
      "image/png": "[encoded data removed]",
      "text/latex": [
       "$\\displaystyle \\frac{k}{a^{2} + k^{2}}$"
      ],
      "text/plain": [
       "   k   \n",
       "───────\n",
       " 2    2\n",
       "a  + k "
      ]
     },
     "execution_count": 19,
     "metadata": {},
     "output_type": "execute_result"
    }
   ],
   "source": [
    "tors = (rp.dot(rpp ^ rppp)) / (rp ^ rpp).magnitude()**2\n",
    "tors.simplify()"
   ]
  },
  {
   "cell_type": "markdown",
   "metadata": {},
   "source": [
    "También sospechábamos que la torsión era constante en todo punto. Claramente, la expresión de la torsión tiende a cero, cuando $k$ tiende a cero"
   ]
  },
  {
   "cell_type": "markdown",
   "metadata": {
    "collapsed": true
   },
   "source": [
    "## Verificación\n",
    "\n",
    "Se va a comprobar el vector $\\vec{\\tau}$"
   ]
  },
  {
   "cell_type": "code",
   "execution_count": null,
   "metadata": {},
   "outputs": [],
   "source": []
  }
 ],
 "metadata": {
  "kernelspec": {
   "display_name": "Python 3",
   "language": "python",
   "name": "python3"
  },
  "language_info": {
   "codemirror_mode": {
    "name": "ipython",
    "version": 3
   },
   "file_extension": ".py",
   "mimetype": "text/x-python",
   "name": "python",
   "nbconvert_exporter": "python",
   "pygments_lexer": "ipython3",
   "version": "3.7.3"
  }
 },
 "nbformat": 4,
 "nbformat_minor": 2
}

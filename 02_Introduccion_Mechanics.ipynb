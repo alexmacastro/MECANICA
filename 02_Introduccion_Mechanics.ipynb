{
 "cells": [
  {
   "cell_type": "markdown",
   "metadata": {},
   "source": [
    "# Introducción al paquete Mechanics\n",
    "\n",
    "## Mecánica para Ingenieros. Grado en Ingeniería Civil. \n",
    "\n",
    "### Corrección curso 2018-2019 para actualización de Sympy\n",
    "\n",
    "+ Alejandro E. Martínez Castro (email:amcastro@ugr.es).\n",
    "\n",
    "\n",
    "_Departamento de Mecánica de Estructuras e Ingeniería Hidráulica_\n",
    "\n",
    "_Universidad de Granada_\n",
    "\n",
    "\n",
    "<a rel=\"license\" href=\"http://creativecommons.org/licenses/by-nc/4.0/\"><img alt=\"Licencia de Creative Commons\" style=\"border-width:0\" src=\"https://i.creativecommons.org/l/by-nc/4.0/88x31.png\" /></a><br />Este obra está bajo una <a rel=\"license\" href=\"http://creativecommons.org/licenses/by-nc/4.0/\">licencia de Creative Commons Reconocimiento-NoComercial 4.0 Internacional</a>."
   ]
  },
  {
   "cell_type": "markdown",
   "metadata": {},
   "source": [
    "# Objetivos de este cuaderno\n",
    "\n",
    "- Introducción al paquete Mechanics, para mecánica. \n",
    "- Sistemas de referencia.\n",
    "- Producto escalar y vectorial simbólico. \n",
    "- Momento de un vector deslizante respecto de un punto, simbólico. \n",
    "- Derivación en ejes móviles. Regla de Boure."
   ]
  },
  {
   "cell_type": "markdown",
   "metadata": {},
   "source": [
    "# Mecánica con SymPy\n",
    "\n",
    "SymPy es un paquete que sirve para realizar cálculo simbólico. Este tipo de paquetes son muy útiles en matemática aplicada, para generar y manipular expresiones que dependen de variables. Así como NumPy está centrado en las aplicaciones numéricas, SymPy está centrado en las simbólicas. \n",
    "\n",
    "El uso habitual de SymPy es siempre dentro de un cuaderno de Jupyter Notebook. \n",
    "\n",
    "Para Mecánica, existe un paquete, montado sobre SymPy, denominado 'mechanics'. \n",
    "\n",
    "_Tienes disponible la documentación de `mechanics` en http://docs.sympy.org/0.7.5/modules/physics/mechanics/index.html._"
   ]
  },
  {
   "cell_type": "markdown",
   "metadata": {},
   "source": [
    "## Sistemas de referencia\n",
    "\n",
    "En primer lugar vamos a manejar los sistemas de referencia. Podremos así expresar los vectores en unos u otros sistemas, y generar de forma sencilla las transformaciones de coordenadas entre ellos. \n",
    "\n",
    "En primer lugar, cargaremos el paquete SymPy. "
   ]
  },
  {
   "cell_type": "code",
   "execution_count": 1,
   "metadata": {
    "collapsed": true
   },
   "outputs": [],
   "source": [
    "from sympy import *\n",
    "\n",
    "\n",
    "init_printing()\n"
   ]
  },
  {
   "cell_type": "markdown",
   "metadata": {},
   "source": [
    "Para trabajar con sistemas de referencia, usaremos la clase `ReferenceFrame`, que está dentro del paquete de mecánica de SymPy, `sympy.physics.mechanics`. De esta forma podremos representar vectores, que es el objeto de estas primeras semanas del curso de Mecánica. \n",
    "\n",
    "Es interesante la referencia sobre vectores que figura en la documentación de SymPy\n",
    "\n",
    "http://docs.sympy.org/0.7.5/modules/physics/vector/vectors.html\n",
    "\n",
    "A continuación importaremos la clase `ReferenceFrame`, con la cual ya podemos empezar a representar vectores."
   ]
  },
  {
   "cell_type": "code",
   "execution_count": 2,
   "metadata": {
    "collapsed": true
   },
   "outputs": [],
   "source": [
    "from sympy.physics.mechanics import ReferenceFrame"
   ]
  },
  {
   "cell_type": "markdown",
   "metadata": {},
   "source": [
    "A continuación vamos a generar un sistema de referencia. Denominaremos \"A\" a este sistema, y para acceder a los vectores unitarios que lo definen, emplearemos \n",
    "\n",
    "    A.x, A.y, A.z\n",
    "    \n",
    "Para referirnos a los versores $\\vec{i}$, $\\vec{j}$, $\\vec{k}$ del sistema de referencia \"A\"."
   ]
  },
  {
   "cell_type": "code",
   "execution_count": 3,
   "metadata": {},
   "outputs": [
    {
     "data": {
      "image/png": "[encoded data removed]",
      "text/latex": [
       "$$\\mathbf{\\hat{a}_x}$$"
      ],
      "text/plain": [
       "a_x"
      ]
     },
     "execution_count": 3,
     "metadata": {},
     "output_type": "execute_result"
    }
   ],
   "source": [
    "A = ReferenceFrame(\"A\")\n",
    "A.x"
   ]
  },
  {
   "cell_type": "markdown",
   "metadata": {},
   "source": [
    "Observamos que por defecto, la notación no es la que esperábamos. Desearíamos que en vez de $\\mathbf{\\hat{a}_x}$, este vector se denominase $\\vec{i}$. Para esto, vamos a generar nuestra propia clase para los sistemas de referencia.\n"
   ]
  },
  {
   "cell_type": "code",
   "execution_count": 4,
   "metadata": {
    "collapsed": true
   },
   "outputs": [],
   "source": [
    "# Definimos nuestra propia clase para que los versores sean IJK\n",
    "class IJKReferenceFrame(ReferenceFrame):\n",
    "    def __init__(self, name=\"\"):\n",
    "        super(IJKReferenceFrame,self).__init__(name, latexs=['\\overrightarrow{%s}_{%s}' % (idx, name) for idx in (\"i\", \"j\", \"k\")])\n",
    "        self.i = self.x\n",
    "        self.j = self.y\n",
    "        self.k = self.z"
   ]
  },
  {
   "cell_type": "markdown",
   "metadata": {},
   "source": [
    "A continuación vamos a generar un sistema de referencia, denominado \"A\" (y reasignaremos el de antes), y vamos a representar el vector $\\vec{i} + \\vec{j} + \\vec{k}$"
   ]
  },
  {
   "cell_type": "code",
   "execution_count": 5,
   "metadata": {},
   "outputs": [
    {
     "data": {
      "image/png": "[encoded data removed]",
      "text/latex": [
       "$$\\overrightarrow{i}_{} + \\overrightarrow{j}_{} + \\overrightarrow{k}_{}$$"
      ],
      "text/plain": [
       "_x + _y + _z"
      ]
     },
     "execution_count": 5,
     "metadata": {},
     "output_type": "execute_result"
    }
   ],
   "source": [
    "A = IJKReferenceFrame()\n",
    "A.i + A.j + A.k"
   ]
  },
  {
   "cell_type": "markdown",
   "metadata": {},
   "source": [
    "Practiquemos con la definición de un vector. Vamos a representar ahora el vector $(2,3,5)$ en la base anterior"
   ]
  },
  {
   "cell_type": "code",
   "execution_count": 6,
   "metadata": {},
   "outputs": [
    {
     "data": {
      "image/png": "[encoded data removed]",
      "text/latex": [
       "$$2\\overrightarrow{i}_{} + 3\\overrightarrow{j}_{} + 5\\overrightarrow{k}_{}$$"
      ],
      "text/plain": [
       "2 _x + 3 _y + 5 _z"
      ]
     },
     "execution_count": 6,
     "metadata": {},
     "output_type": "execute_result"
    }
   ],
   "source": [
    "2*A.i + 3*A.j + 5*A.k"
   ]
  },
  {
   "cell_type": "markdown",
   "metadata": {},
   "source": [
    "Si queremos incorporar algún símbolo alusivo al sistema de referencia, nos basta con incorporarlo en la definición del sistema. Por ejemplo, generemos dos sistemas de referencia, y utilicemos los símbolos \"1\" y \"2\" para diferenciarlos en la representación."
   ]
  },
  {
   "cell_type": "code",
   "execution_count": 7,
   "metadata": {},
   "outputs": [
    {
     "data": {
      "image/png": "[encoded data removed]",
      "text/latex": [
       "$$\\overrightarrow{i}_{1} + \\overrightarrow{j}_{1} + \\overrightarrow{k}_{1}$$"
      ],
      "text/plain": [
       "1_x + 1_y + 1_z"
      ]
     },
     "execution_count": 7,
     "metadata": {},
     "output_type": "execute_result"
    }
   ],
   "source": [
    "B = IJKReferenceFrame(\"1\")\n",
    "C = IJKReferenceFrame(\"2\")\n",
    "B.i + B.j + B.k"
   ]
  },
  {
   "cell_type": "code",
   "execution_count": 8,
   "metadata": {},
   "outputs": [
    {
     "data": {
      "image/png": "[encoded data removed]",
      "text/latex": [
       "$$\\overrightarrow{i}_{2} + 2\\overrightarrow{k}_{2}$$"
      ],
      "text/plain": [
       "2_x + 2 2_z"
      ]
     },
     "execution_count": 8,
     "metadata": {},
     "output_type": "execute_result"
    }
   ],
   "source": [
    "C.i + 2 * C.k"
   ]
  },
  {
   "cell_type": "markdown",
   "metadata": {},
   "source": [
    "Cualquier vector admite ser asignado a una variable"
   ]
  },
  {
   "cell_type": "code",
   "execution_count": 9,
   "metadata": {
    "collapsed": true
   },
   "outputs": [],
   "source": [
    "r1 = A.i + 3*A.j -2*A.k"
   ]
  },
  {
   "cell_type": "code",
   "execution_count": 10,
   "metadata": {},
   "outputs": [
    {
     "data": {
      "image/png": "[encoded data removed]",
      "text/latex": [
       "$$\\overrightarrow{i}_{} + 3\\overrightarrow{j}_{} - 2\\overrightarrow{k}_{}$$"
      ],
      "text/plain": [
       "_x + 3 _y + -2 _z"
      ]
     },
     "execution_count": 10,
     "metadata": {},
     "output_type": "execute_result"
    }
   ],
   "source": [
    "r1"
   ]
  },
  {
   "cell_type": "markdown",
   "metadata": {},
   "source": [
    "### Álgebra vectorial\n",
    "\n",
    "Podemos trabajar también con símbolos, y podemos realizar las operaciones de producto escalar y producto vectorial con ellos."
   ]
  },
  {
   "cell_type": "code",
   "execution_count": 11,
   "metadata": {
    "collapsed": true
   },
   "outputs": [],
   "source": [
    "R, V = symbols('R, V') # Le decimos a Python que son símbolos\n",
    "r1 = R * (A.x + A.y + A.z)\n",
    "v1 = V * (A.x - 2 * A.z)"
   ]
  },
  {
   "cell_type": "code",
   "execution_count": 12,
   "metadata": {},
   "outputs": [
    {
     "data": {
      "image/png": "[encoded data removed]",
      "text/latex": [
       "$$R\\overrightarrow{i}_{} + R\\overrightarrow{j}_{} + R\\overrightarrow{k}_{}$$"
      ],
      "text/plain": [
       "R _x + R _y + R _z"
      ]
     },
     "execution_count": 12,
     "metadata": {},
     "output_type": "execute_result"
    }
   ],
   "source": [
    "r1"
   ]
  },
  {
   "cell_type": "code",
   "execution_count": 13,
   "metadata": {
    "collapsed": true
   },
   "outputs": [],
   "source": [
    "from sympy.physics.mechanics import dot, cross # Para realizar producto escalar y vectorial"
   ]
  },
  {
   "cell_type": "markdown",
   "metadata": {},
   "source": [
    "### Producto escalar\n",
    "Hay tres formas de definir el producto escalar en este paquete (ojo, la notación es exclusiva para variables generadas dentro de SymPy"
   ]
  },
  {
   "cell_type": "code",
   "execution_count": 14,
   "metadata": {},
   "outputs": [
    {
     "data": {
      "image/png": "[encoded data removed]",
      "text/latex": [
       "$$- R V$$"
      ],
      "text/plain": [
       "-R⋅V"
      ]
     },
     "execution_count": 14,
     "metadata": {},
     "output_type": "execute_result"
    }
   ],
   "source": [
    "r1.dot(v1)\n",
    "dot(r1, v1)\n",
    "r1 & v1"
   ]
  },
  {
   "cell_type": "code",
   "execution_count": 15,
   "metadata": {},
   "outputs": [
    {
     "data": {
      "image/png": "[encoded data removed]",
      "text/latex": [
       "$$V\\overrightarrow{i}_{} -  2 V\\overrightarrow{k}_{}$$"
      ],
      "text/plain": [
       "V _x + -2⋅V _z"
      ]
     },
     "execution_count": 15,
     "metadata": {},
     "output_type": "execute_result"
    }
   ],
   "source": [
    "v1"
   ]
  },
  {
   "cell_type": "code",
   "execution_count": 16,
   "metadata": {},
   "outputs": [
    {
     "data": {
      "image/png": "[encoded data removed]",
      "text/latex": [
       "$$5 V^{2}$$"
      ],
      "text/plain": [
       "   2\n",
       "5⋅V "
      ]
     },
     "execution_count": 16,
     "metadata": {},
     "output_type": "execute_result"
    }
   ],
   "source": [
    "v1 & v1"
   ]
  },
  {
   "cell_type": "code",
   "execution_count": 17,
   "metadata": {},
   "outputs": [
    {
     "data": {
      "image/png": "[encoded data removed]",
      "text/latex": [
       "$$5 V^{2}$$"
      ],
      "text/plain": [
       "   2\n",
       "5⋅V "
      ]
     },
     "execution_count": 17,
     "metadata": {},
     "output_type": "execute_result"
    }
   ],
   "source": [
    "v1.dot(v1)"
   ]
  },
  {
   "cell_type": "markdown",
   "metadata": {},
   "source": [
    "### Producto vectorial\n",
    "Hay, igualmente, tres formas de definir el producto vectorial"
   ]
  },
  {
   "cell_type": "code",
   "execution_count": 18,
   "metadata": {},
   "outputs": [
    {
     "data": {
      "image/png": "[encoded data removed]",
      "text/latex": [
       "$$-  2 R V\\overrightarrow{i}_{} + 3 R V\\overrightarrow{j}_{} -  R V\\overrightarrow{k}_{}$$"
      ],
      "text/plain": [
       "-2⋅R⋅V _x + 3⋅R⋅V _y + -R⋅V _z"
      ]
     },
     "execution_count": 18,
     "metadata": {},
     "output_type": "execute_result"
    }
   ],
   "source": [
    "r1.cross(v1)\n",
    "cross(r1, v1)\n",
    "r1 ^ v1"
   ]
  },
  {
   "cell_type": "markdown",
   "metadata": {},
   "source": [
    "Observe que el producto vectorial de uno de estos vectores por sí mismo es nulo"
   ]
  },
  {
   "cell_type": "code",
   "execution_count": 19,
   "metadata": {},
   "outputs": [
    {
     "data": {
      "image/png": "[encoded data removed]",
      "text/latex": [
       "$$0$$"
      ],
      "text/plain": [
       "0"
      ]
     },
     "execution_count": 19,
     "metadata": {},
     "output_type": "execute_result"
    }
   ],
   "source": [
    "v1 ^ v1"
   ]
  },
  {
   "cell_type": "markdown",
   "metadata": {},
   "source": [
    "### Módulo y normalización de vectores\n",
    "Podemos hallar también la norma de los vectores con su método `magnitude` e incluso normalizarlos con `normalize`:"
   ]
  },
  {
   "cell_type": "code",
   "execution_count": 20,
   "metadata": {},
   "outputs": [
    {
     "data": {
      "image/png": "[encoded data removed]",
      "text/latex": [
       "$$\\sqrt{14} \\sqrt{R^{2} V^{2}}$$"
      ],
      "text/plain": [
       "       _______\n",
       "      ╱  2  2 \n",
       "√14⋅╲╱  R ⋅V  "
      ]
     },
     "execution_count": 20,
     "metadata": {},
     "output_type": "execute_result"
    }
   ],
   "source": [
    "(r1 ^ v1).magnitude()"
   ]
  },
  {
   "cell_type": "code",
   "execution_count": 21,
   "metadata": {},
   "outputs": [
    {
     "data": {
      "image/png": "[encoded data removed]",
      "text/latex": [
       "$$-  \\frac{\\sqrt{14} R V}{7 \\sqrt{R^{2} V^{2}}}\\overrightarrow{i}_{} + \\frac{3 \\sqrt{14} R V}{14 \\sqrt{R^{2} V^{2}}}\\overrightarrow{j}_{} -  \\frac{\\sqrt{14} R V}{14 \\sqrt{R^{2} V^{2}}}\\overrightarrow{k}_{}$$"
      ],
      "text/plain": [
       " -√14⋅R⋅V           3⋅√14⋅R⋅V          -√14⋅R⋅V\n",
       "──────────── _x + ───────────── _y + ───────────── _z\n",
       "     _______            _______            _______\n",
       "    ╱  2  2            ╱  2  2            ╱  2  2\n",
       "7⋅╲╱  R ⋅V        14⋅╲╱  R ⋅V        14⋅╲╱  R ⋅V"
      ]
     },
     "execution_count": 21,
     "metadata": {},
     "output_type": "execute_result"
    }
   ],
   "source": [
    "(r1 ^ v1).normalize()"
   ]
  },
  {
   "cell_type": "markdown",
   "metadata": {},
   "source": [
    "### Ejercicio: Momento de un sistema de vectores deslizantes\n",
    "\n",
    "(Ejercicio 5 de la relación de problemas) \n",
    "\n",
    "Dado el sistema de vectores deslizantes: \n",
    "\n",
    "\\begin{align}\n",
    "A_1 = (1,0,0),\\,\\,\\,\\,\\,\\vec{v}_1 = (1,0,0) \\nonumber \\\\\n",
    "A_2 = (1,1,1),\\,\\,\\,\\,\\,\\vec{v}_2 = (0,1,0) \\nonumber \\\\\n",
    "A_3 = (1,0,1),\\,\\,\\,\\,\\,\\vec{v}_3 = (0,0,1) \\nonumber\n",
    "\\end{align}\n",
    "\n",
    "Determinar: \n",
    "- Resultante y vector unitario en la dirección de la resultante.\n",
    "- Momento del sistema en el origen de coordenadas, e invariante escalar.\n"
   ]
  },
  {
   "cell_type": "code",
   "execution_count": 22,
   "metadata": {
    "collapsed": true
   },
   "outputs": [],
   "source": [
    "A1 = A.i\n",
    "A2 = A.i + A.j + A.k\n",
    "A3 = A.x + A.z\n",
    "v1 = A.i\n",
    "v2 = A.j\n",
    "v3 = A.k\n",
    "resultante = v1+v2+v3\n",
    "momento = (A1 ^ v1) + (A2 ^ v2) + (A3 ^ v3) # Atención, los paréntesis son fundamentales aquí"
   ]
  },
  {
   "cell_type": "code",
   "execution_count": 23,
   "metadata": {},
   "outputs": [
    {
     "data": {
      "image/png": "[encoded data removed]",
      "text/latex": [
       "$$\\overrightarrow{i}_{} + \\overrightarrow{j}_{} + \\overrightarrow{k}_{}$$"
      ],
      "text/plain": [
       "_x + _y + _z"
      ]
     },
     "execution_count": 23,
     "metadata": {},
     "output_type": "execute_result"
    }
   ],
   "source": [
    "resultante"
   ]
  },
  {
   "cell_type": "code",
   "execution_count": 24,
   "metadata": {},
   "outputs": [
    {
     "data": {
      "image/png": "[encoded data removed]",
      "text/latex": [
       "$$\\frac{\\sqrt{3}}{3}\\overrightarrow{i}_{} + \\frac{\\sqrt{3}}{3}\\overrightarrow{j}_{} + \\frac{\\sqrt{3}}{3}\\overrightarrow{k}_{}$$"
      ],
      "text/plain": [
       "√3      √3      √3\n",
       "── _x + ── _y + ── _z\n",
       "3       3       3"
      ]
     },
     "execution_count": 24,
     "metadata": {},
     "output_type": "execute_result"
    }
   ],
   "source": [
    "resultante.normalize()"
   ]
  },
  {
   "cell_type": "code",
   "execution_count": 25,
   "metadata": {},
   "outputs": [
    {
     "data": {
      "image/png": "[encoded data removed]",
      "text/latex": [
       "$$- \\overrightarrow{i}_{} - \\overrightarrow{j}_{} + \\overrightarrow{k}_{}$$"
      ],
      "text/plain": [
       " - _x - _y + _z"
      ]
     },
     "execution_count": 25,
     "metadata": {},
     "output_type": "execute_result"
    }
   ],
   "source": [
    "momento"
   ]
  },
  {
   "cell_type": "code",
   "execution_count": 26,
   "metadata": {},
   "outputs": [
    {
     "data": {
      "image/png": "[encoded data removed]",
      "text/latex": [
       "$$-1$$"
      ],
      "text/plain": [
       "-1"
      ]
     },
     "execution_count": 26,
     "metadata": {},
     "output_type": "execute_result"
    }
   ],
   "source": [
    "invariante_escalar = resultante & momento\n",
    "invariante_escalar"
   ]
  },
  {
   "cell_type": "markdown",
   "metadata": {},
   "source": [
    "### Ejercicio: Aplicación de la regla de Boure\n",
    "\n",
    "Usando directamente la fórmula para la derivada en ejes móviles:\n",
    "\n",
    "$$\\left(\\frac{\\operatorname{d}\\!\\mathbf{a}}{\\operatorname{d}\\!t}\\right) = \\left(\\frac{\\operatorname{d}\\!\\mathbf{a}}{\\operatorname{d}\\!t}\\right)_m + \\mathbf{\\omega}\\! \\times \\mathbf{a}$$\n",
    "\n",
    "Calcula la derivada del vector de posición $R \\mathbf{i}_m$, siendo $A_m$ un sistema de referencia móvil, que gira respecto al inercial $A$ con velocidad angular $\\mathbf{\\omega}=\\Omega \\mathbf{k}_m$. **¿Cuál es el módulo de la derivada?**"
   ]
  },
  {
   "cell_type": "code",
   "execution_count": 27,
   "metadata": {
    "collapsed": true
   },
   "outputs": [],
   "source": [
    "R, Omega = symbols('R, Omega', positive=True)\n",
    "Am = IJKReferenceFrame(\"m\") #Sistema de referencia móvil"
   ]
  },
  {
   "cell_type": "code",
   "execution_count": 28,
   "metadata": {},
   "outputs": [
    {
     "data": {
      "image/png": "[encoded data removed]",
      "text/latex": [
       "$$R\\overrightarrow{i}_{m}$$"
      ],
      "text/plain": [
       "R m_x"
      ]
     },
     "execution_count": 28,
     "metadata": {},
     "output_type": "execute_result"
    }
   ],
   "source": [
    "a = R * Am.i\n",
    "a"
   ]
  },
  {
   "cell_type": "code",
   "execution_count": 29,
   "metadata": {},
   "outputs": [
    {
     "data": {
      "image/png": "[encoded data removed]",
      "text/latex": [
       "$$\\Omega\\overrightarrow{k}_{m}$$"
      ],
      "text/plain": [
       "Ω m_z"
      ]
     },
     "execution_count": 29,
     "metadata": {},
     "output_type": "execute_result"
    }
   ],
   "source": [
    "omega = Omega * Am.k #Vector expresado en ejes móviles\n",
    "omega"
   ]
  },
  {
   "cell_type": "code",
   "execution_count": 30,
   "metadata": {},
   "outputs": [
    {
     "data": {
      "image/png": "[encoded data removed]",
      "text/latex": [
       "$$\\Omega R\\overrightarrow{j}_{m}$$"
      ],
      "text/plain": [
       "Ω⋅R m_y"
      ]
     },
     "execution_count": 30,
     "metadata": {},
     "output_type": "execute_result"
    }
   ],
   "source": [
    "da = omega ^ a # No se ha incluido la derivada de R, pues éste no varía con el tiempo. \n",
    "da"
   ]
  },
  {
   "cell_type": "code",
   "execution_count": 31,
   "metadata": {},
   "outputs": [
    {
     "data": {
      "image/png": "[encoded data removed]",
      "text/latex": [
       "$$\\Omega R$$"
      ],
      "text/plain": [
       "Ω⋅R"
      ]
     },
     "execution_count": 31,
     "metadata": {},
     "output_type": "execute_result"
    }
   ],
   "source": [
    "da.magnitude()"
   ]
  },
  {
   "cell_type": "markdown",
   "metadata": {},
   "source": [
    "### Ejercicio: \n",
    "\n",
    "Considere el mismo caso que el anterior, pero suponga ahora que el vector de posición de un punto material viene dado, en el sistema móvil $A_m$ por: \n",
    "\n",
    "$$\\vec{R}(t)_m = r(t)\\, \\vec{i}_m$$\n",
    "\n",
    "Calcula la derivada del vector de posición $\\mathbf{R(t)}_m$."
   ]
  },
  {
   "cell_type": "markdown",
   "metadata": {},
   "source": [
    "En mecánica, el tiempo es un parámetro muy habitual. Por esto, se incluye un procedimiento para definir variables que dependen del tiempo. \n",
    "\n",
    "    dynamicsymbols"
   ]
  },
  {
   "cell_type": "code",
   "execution_count": 32,
   "metadata": {},
   "outputs": [
    {
     "data": {
      "image/png": "[encoded data removed]",
      "text/latex": [
       "$$r{\\left (t \\right )}$$"
      ],
      "text/plain": [
       "r(t)"
      ]
     },
     "execution_count": 32,
     "metadata": {},
     "output_type": "execute_result"
    }
   ],
   "source": [
    "from sympy.physics.mechanics import dynamicsymbols\n",
    "r = dynamicsymbols('r')\n",
    "t = symbols('t')\n",
    "r"
   ]
  },
  {
   "cell_type": "markdown",
   "metadata": {},
   "source": [
    "La derivada temporal puede obtenerse con la función `diff`"
   ]
  },
  {
   "cell_type": "code",
   "execution_count": 33,
   "metadata": {},
   "outputs": [
    {
     "data": {
      "image/png": "[encoded data removed]",
      "text/latex": [
       "$$\\frac{d}{d t} r{\\left (t \\right )}$$"
      ],
      "text/plain": [
       "d       \n",
       "──(r(t))\n",
       "dt      "
      ]
     },
     "execution_count": 33,
     "metadata": {},
     "output_type": "execute_result"
    }
   ],
   "source": [
    "r.diff()"
   ]
  },
  {
   "cell_type": "markdown",
   "metadata": {},
   "source": [
    "A continuación generaremos el vector $\\vec{a} = r(t) \\,\\vec{i_m}$. Puesto que $r$ es un símbolo dinámico, Python interpretará directamente que varía con el tiempo, aunque puede no mostrar $r(t)$ expresamente."
   ]
  },
  {
   "cell_type": "code",
   "execution_count": 34,
   "metadata": {},
   "outputs": [
    {
     "data": {
      "image/png": "[encoded data removed]",
      "text/latex": [
       "$$r\\overrightarrow{i}_{m}$$"
      ],
      "text/plain": [
       "r(t) m_x"
      ]
     },
     "execution_count": 34,
     "metadata": {},
     "output_type": "execute_result"
    }
   ],
   "source": [
    "a =  r * Am.i\n",
    "a"
   ]
  },
  {
   "cell_type": "markdown",
   "metadata": {},
   "source": [
    "La derivada respecto del tiempo del vector anterior se realiza con la función `diff`. Nótese que a esta función debe dársele, para actuar sobre un vector, el escalar respecto del cual se deriva (el tiempo $t$ en este caso) y el sistema de referencia. "
   ]
  },
  {
   "cell_type": "code",
   "execution_count": 35,
   "metadata": {},
   "outputs": [
    {
     "data": {
      "image/png": "[encoded data removed]",
      "text/latex": [
       "$$\\dot{r}\\overrightarrow{i}_{m}$$"
      ],
      "text/plain": [
       "d\n",
       "──(r(t)) m_x\n",
       "dt"
      ]
     },
     "execution_count": 35,
     "metadata": {},
     "output_type": "execute_result"
    }
   ],
   "source": [
    "da = a.diff(t,Am)\n",
    "da"
   ]
  },
  {
   "cell_type": "markdown",
   "metadata": {},
   "source": [
    "Observe que la derivada ha sido ahora indicada mediante una notación muy empleada en Mecánica Clásica: las derivadas respecto del tempo se notan con un \"punto\" encima de la variable. \n",
    "\n",
    "Finalmente, podremos calcular la derivada, aplicando nuevamente la regla de Boure. "
   ]
  },
  {
   "cell_type": "code",
   "execution_count": 36,
   "metadata": {},
   "outputs": [
    {
     "data": {
      "image/png": "[encoded data removed]",
      "text/latex": [
       "$$\\dot{r}\\overrightarrow{i}_{m} + \\Omega r\\overrightarrow{j}_{m}$$"
      ],
      "text/plain": [
       "d\n",
       "──(r(t)) m_x + Ω⋅r(t) m_y\n",
       "dt"
      ]
     },
     "execution_count": 36,
     "metadata": {},
     "output_type": "execute_result"
    }
   ],
   "source": [
    "da = a.diff(t,Am) + (omega ^ a)\n",
    "da"
   ]
  }
 ],
 "metadata": {
  "kernelspec": {
   "display_name": "Python 3",
   "language": "python",
   "name": "python3"
  },
  "language_info": {
   "codemirror_mode": {
    "name": "ipython",
    "version": 3
   },
   "file_extension": ".py",
   "mimetype": "text/x-python",
   "name": "python",
   "nbconvert_exporter": "python",
   "pygments_lexer": "ipython3",
   "version": "3.7.3"
  }
 },
 "nbformat": 4,
 "nbformat_minor": 2
}

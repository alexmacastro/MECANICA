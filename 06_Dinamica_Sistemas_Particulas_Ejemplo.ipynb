{
 "cells": [
  {
   "cell_type": "markdown",
   "metadata": {},
   "source": [
    "# Dinámica de los sistemas de partículas. Ejemplo inicial.\n",
    "\n",
    "## Mecánica para Ingenieros. Grado en Ingeniería Civil. \n",
    "\n",
    "+ Alejandro E. Martínez Castro (Desarrollador principal, email:amcastro@ugr.es).\n",
    "+ Germán Rodríguez Salido.\n",
    "+ Manuel Chiachío Ruano\n",
    "+ Rafael Bravo Pareja.\n",
    "+ Rafael Muñoz Beltrán. \n",
    "+ Gracia Rodríguez Jerónimo.\n",
    "\n",
    "_Departamento de Mecánica de Estructuras e Ingeniería Hidráulica_\n",
    "\n",
    "_Universidad de Granada_\n",
    "\n",
    "\n",
    "<a rel=\"license\" href=\"http://creativecommons.org/licenses/by-nc/4.0/\"><img alt=\"Licencia de Creative Commons\" style=\"border-width:0\" src=\"https://i.creativecommons.org/l/by-nc/4.0/88x31.png\" /></a><br />Este obra está bajo una <a rel=\"license\" href=\"http://creativecommons.org/licenses/by-nc/4.0/\">licencia de Creative Commons Reconocimiento-NoComercial 4.0 Internacional</a>."
   ]
  },
  {
   "cell_type": "markdown",
   "metadata": {},
   "source": [
    "# Objetivos de este cuaderno\n",
    "\n",
    "En este cuaderno se muestra un ejemplo sencillo con 3 partículas. \n",
    "\n",
    "Se verifican las propiedades básicas del sistema cinético: \n",
    "\n",
    "- Cálculo de la cantidad de movimiento del sistema. \n",
    "- Cálculo del momento angular en el centro de masa. Segundo Teorema de Köning. \n",
    "- Cálculo de la energía cinética del sistema. Primer Teorema de Köning. "
   ]
  },
  {
   "cell_type": "markdown",
   "metadata": {},
   "source": [
    "## Presentación del ejemplo\n",
    "\n",
    "Consideremos un sistema de partículas formado por 3 puntos, de masas m1, m2, m3 = 1, 2, y 3 kg, respectivamente. Los vectores de posición y velocidades, en un instante dado, vienen dados por los siguientes vectores: \n",
    "en las posiciones: \n",
    "\n",
    "\\begin{align}\n",
    "\\vec{r}_1 & = (1,2,1) \\\\\n",
    "\\vec{r}_2 & = (0,2,2) \\\\\n",
    "\\vec{r}_3 & = (1,2,3)\n",
    "\\end{align}\n",
    "\n",
    "\\begin{align}\n",
    "\\vec{v}_1 = (1,0,0) \\\\\n",
    "\\vec{v}_2 = (0,2,0) \\\\\n",
    "\\vec{v}_3 = (0,0,1)\n",
    "\\end{align}"
   ]
  },
  {
   "cell_type": "code",
   "execution_count": 1,
   "metadata": {
    "collapsed": true
   },
   "outputs": [],
   "source": [
    "import numpy as np\n",
    "\n",
    "m1 = 1\n",
    "m2 = 2\n",
    "m3 = 3\n",
    "\n",
    "r1 = np.array([1,2,1])\n",
    "r2 = np.array([0,2,2])\n",
    "r3 = np.array([1,2,3])\n",
    "\n",
    "v1 = np.array([1,0,0])\n",
    "v2 = np.array([0,2,0])\n",
    "v3 = np.array([0,0,1])"
   ]
  },
  {
   "cell_type": "markdown",
   "metadata": {},
   "source": [
    "## Posición y velocidad del centro de masas\n",
    "\n",
    "En primer lugar determinaremos la posición y velocidad del centro de masas del sistema de partículas. Aplicando su definición: \n",
    "\n",
    "\\begin{equation}\n",
    "\\vec{r}_G = \\dfrac{\\sum_{i=1}^N m_i\\,\\vec{r}_i}{\\sum_{i=1}^N m_i}\n",
    "\\end{equation}\n",
    "\n",
    "y \n",
    "\n",
    "\\begin{equation}\n",
    "\\vec{v}_G = \\dfrac{\\sum_{i=1}^N m_i\\,\\vec{v}_i}{\\sum_{i=1}^N m_i}\n",
    "\\end{equation}"
   ]
  },
  {
   "cell_type": "code",
   "execution_count": 2,
   "metadata": {},
   "outputs": [
    {
     "name": "stdout",
     "output_type": "stream",
     "text": [
      "centro de masas:  [ 0.66666667  2.          2.33333333]\n",
      "velocidad G:  [ 0.16666667  0.66666667  0.5       ]\n"
     ]
    }
   ],
   "source": [
    "masa = m1 + m2 + m3\n",
    "\n",
    "rg = (m1*r1 + m2*r2 + m3*r3)/masa\n",
    "\n",
    "vg = (m1*v1 + m2*v2 + m3*v3)/masa\n",
    "\n",
    "print (\"centro de masas: \",rg)\n",
    "print (\"velocidad G: \", vg)"
   ]
  },
  {
   "cell_type": "markdown",
   "metadata": {},
   "source": [
    "## Vector cantidad de movimiento\n",
    "\n",
    "A continuación determinaremos $\\vec{p}$, mediante la suma de los vectores cantidad de movimiento de cada partícula, y lo compararemos con el producto de toda la masa del sistema por el vector velocidad del centro de masas, determinado anteriormente. Verificaremos que se cumple: \n",
    "\n",
    "\\begin{equation}\n",
    "\\vec{p} = \\sum_{i=1}^N \\vec{p}_i = \\sum_{i=1}^N m_i \\,\\vec{v}_i = M \\,\\vec{v}_G\n",
    "\\end{equation}\n",
    "\n",
    "siendo $M = \\sum_{i=1}^N m_i$"
   ]
  },
  {
   "cell_type": "code",
   "execution_count": 3,
   "metadata": {},
   "outputs": [
    {
     "name": "stdout",
     "output_type": "stream",
     "text": [
      "Cantidad de movimiento [1 4 3]\n",
      "Cantidad de movimiento del centro de masas:  [ 1.  4.  3.]\n"
     ]
    }
   ],
   "source": [
    "#==============================================================================\n",
    "# Cantidad de movimiento\n",
    "#==============================================================================\n",
    "vecp = m1*v1 + m2 * v2 + m3*v3\n",
    "\n",
    "print (\"Cantidad de movimiento\", vecp)\n",
    "\n",
    "#==============================================================================\n",
    "# Con el centro de masas\n",
    "#==============================================================================\n",
    "\n",
    "vecp2 = masa * vg\n",
    "\n",
    "print (\"Cantidad de movimiento del centro de masas: \", vecp2)"
   ]
  },
  {
   "cell_type": "markdown",
   "metadata": {},
   "source": [
    "## Momento cinético en el origen\n",
    "\n",
    "En el origen de coordenadas, calcularemos el vector: \n",
    "\n",
    "\\begin{equation}\n",
    "\\vec{H}_O = \\sum_{i=1}^n \\vec{r}_i \\wedge \\vec{p}_i = \\sum_{i=1}^n \\vec{r}_i \\wedge (m_i\\,\\vec{v}_i)\n",
    "\\end{equation}"
   ]
  },
  {
   "cell_type": "code",
   "execution_count": 4,
   "metadata": {},
   "outputs": [
    {
     "name": "stdout",
     "output_type": "stream",
     "text": [
      "Momento H0 = [-2 -2 -2]\n"
     ]
    }
   ],
   "source": [
    "H0 = np.cross(r1,m1*v1) + np.cross(r2,m2*v2) + np.cross(r3,m3*v3)\n",
    "print (\"Momento H0 =\", H0)"
   ]
  },
  {
   "cell_type": "markdown",
   "metadata": {},
   "source": [
    "Nótese que este momento cinético no puede calcularse como el momento cinético de una masa, igual a la masa total del sistema, posicionada en el centro de masas, y con velocidad $\\vec{v}_G$"
   ]
  },
  {
   "cell_type": "code",
   "execution_count": 5,
   "metadata": {},
   "outputs": [
    {
     "name": "stdout",
     "output_type": "stream",
     "text": [
      "H0_G = [-3.33333333  0.33333333  0.66666667]\n",
      "El momento cinético no es igual al que se obtendría intuitivamente\n"
     ]
    }
   ],
   "source": [
    "H0_g = np.cross(rg,masa*vg)\n",
    "\n",
    "print (\"H0_G =\", H0_g)\n",
    "\n",
    "print (\"El momento cinético no es igual al que se obtendría intuitivamente\")"
   ]
  },
  {
   "cell_type": "markdown",
   "metadata": {},
   "source": [
    "## Momento cinético en el centro de masas\n",
    "\n",
    "Para determinar el momento cinético en el centro de masas, se puede proceder mediante la ecuación del cambio de momento en un sistema de vectores deslizantes: \n",
    "\n",
    "\\begin{equation}\n",
    "\\vec{H}_G = \\vec{H}_O + \\overrightarrow{GO} \\wedge \\vec{p}\n",
    "\\end{equation}"
   ]
  },
  {
   "cell_type": "code",
   "execution_count": 6,
   "metadata": {},
   "outputs": [
    {
     "name": "stdout",
     "output_type": "stream",
     "text": [
      "HG [ 1.33333333 -2.33333333 -2.66666667]\n"
     ]
    }
   ],
   "source": [
    "p = masa * vg\n",
    "\n",
    "HG = H0 + np.cross(-rg, p)\n",
    "\n",
    "print (\"HG\", HG)"
   ]
  },
  {
   "cell_type": "markdown",
   "metadata": {},
   "source": [
    "Este momento cinético, en el centro de masas, es igual al que obtendría un observador situado en el centro de masas. Este observador vería las velocidades relativas al centro de masas, así como las posiciones. \n",
    "\n",
    "\\begin{equation}\n",
    "H_G = \\sum_{i=1}^N (\\vec{r}_i -\\vec{r}_G) \\wedge (m_i\\, (\\vec{v}_i - \\vec{v}_G))\n",
    "\\end{equation}"
   ]
  },
  {
   "cell_type": "code",
   "execution_count": 7,
   "metadata": {},
   "outputs": [
    {
     "name": "stdout",
     "output_type": "stream",
     "text": [
      "HG_rel [ 1.33333333 -2.33333333 -2.66666667]\n"
     ]
    }
   ],
   "source": [
    "#==============================================================================\n",
    "# Verificación: Velocidades relativas al centro de masa\n",
    "#==============================================================================\n",
    "v1r = v1 - vg\n",
    "v2r = v2 - vg\n",
    "v3r = v3 - vg\n",
    "\n",
    "#==============================================================================\n",
    "# Suma de momentos angulares en G\n",
    "#==============================================================================\n",
    "\n",
    "HG_rel = np.cross((r1-rg),m1*v1r)\n",
    "\n",
    "HG_rel += np.cross((r2-rg),m2*v2r)\n",
    "\n",
    "HG_rel += np.cross((r3-rg),m3*v3r)\n",
    "\n",
    "print (\"HG_rel\", HG_rel)"
   ]
  },
  {
   "cell_type": "markdown",
   "metadata": {},
   "source": [
    "En efecto, se verifica que $H_G = H_G,r$. Esto se conoce como _Segundo Teorema de Köning_"
   ]
  },
  {
   "cell_type": "markdown",
   "metadata": {},
   "source": [
    "## Energía cinética del sistema\n",
    "\n",
    "A continuación verificaremos el primer teorema de Köning, que indica que la energía cinética del sistema es suma de dos términos: la energía cinética de una partícula ficticia, en el centro de masas, con toda la masa, y velocidad $\\vec{v}_G$, más la energía cinética de las partículas con velocidades relativas a la del centro de masas. \n",
    "\n",
    "Calcularemos dos cantidades: por un lado:\n",
    "\n",
    "\\begin{equation}\n",
    "T = \\sum_{i=1}^N \\dfrac{1}{2} m_i \\vec{v}_i \\cdot \\vec{v_i}\n",
    "\\end{equation}\n",
    "\n",
    "\\begin{equation}\n",
    "T = \\dfrac{1}{2} M \\,\\vec{v}_G \\cdot \\vec{v}_G + \\sum_{i=1}^N \\dfrac{1}{2} m_i \\vec{vr}_i \\cdot \\vec{vr_i}\n",
    "\\end{equation}\n",
    "\n",
    "siendo $\\vec{vr}_i = \\vec{v}_i - \\vec{v}_G$, la velocidad de la partícula $i$ relativa al centro de masas. "
   ]
  },
  {
   "cell_type": "code",
   "execution_count": 8,
   "metadata": {},
   "outputs": [
    {
     "name": "stdout",
     "output_type": "stream",
     "text": [
      "Energía cinética del sistema 6.0\n",
      "Enercía cinética de G 2.16666666667\n",
      "Energía cinética relativa 3.83333333333\n",
      "Suma de T en G más relativa 6.0\n"
     ]
    }
   ],
   "source": [
    "T = 1/2.* (m1 *  v1.dot(v1)) \n",
    "T += 1/2.* (m2 * v2.dot(v2))\n",
    "T += 1/2.* (m3 * v3.dot(v3))\n",
    "\n",
    "print(\"Energía cinética del sistema\", T)\n",
    "\n",
    "#==============================================================================\n",
    "# Primer teorema de Köning\n",
    "#==============================================================================\n",
    "\n",
    "TG = 1/2. * masa * vg.dot(vg)\n",
    "\n",
    "Tr = 1/2.* (m1 *  v1r.dot(v1r))\n",
    "Tr += 1/2.* (m2 * v2r.dot(v2r))\n",
    "Tr += 1/2.* (m3 * v3r.dot(v3r))\n",
    "\n",
    "print (\"Enercía cinética de G\", TG)\n",
    "print (\"Energía cinética relativa\", Tr)\n",
    "print (\"Suma de T en G más relativa\", TG + Tr )"
   ]
  },
  {
   "cell_type": "code",
   "execution_count": null,
   "metadata": {
    "collapsed": true
   },
   "outputs": [],
   "source": []
  }
 ],
 "metadata": {
  "kernelspec": {
   "display_name": "Python 3",
   "language": "python",
   "name": "python3"
  },
  "language_info": {
   "codemirror_mode": {
    "name": "ipython",
    "version": 3
   },
   "file_extension": ".py",
   "mimetype": "text/x-python",
   "name": "python",
   "nbconvert_exporter": "python",
   "pygments_lexer": "ipython3",
   "version": "3.6.1"
  }
 },
 "nbformat": 4,
 "nbformat_minor": 2
}

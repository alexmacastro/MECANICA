{
 "cells": [
  {
   "cell_type": "markdown",
   "metadata": {},
   "source": [
    "# Tensor de Inercia. Programación Orientada a Objetos\n",
    "\n",
    "## Mecánica para Ingenieros. Grado en Ingeniería Civil. \n",
    "\n",
    "+ Alejandro E. Martínez Castro (Desarrollador principal, email:amcastro@ugr.es).\n",
    "+ Rafael Muñoz Beltrán.\n",
    "+ Germán Rodríguez Salido.\n",
    "+ Gracia Rodríguez Jerónimo.\n",
    "+ Juan José Granados Romera.\n",
    "\n",
    "_Departamento de Mecánica de Estructuras e Ingeniería Hidráulica_\n",
    "\n",
    "_Universidad de Granada_\n",
    "\n",
    "\n",
    "<a rel=\"license\" href=\"http://creativecommons.org/licenses/by-nc/4.0/\"><img alt=\"Licencia de Creative Commons\" style=\"border-width:0\" src=\"https://i.creativecommons.org/l/by-nc/4.0/88x31.png\" /></a><br />Este obra está bajo una <a rel=\"license\" href=\"http://creativecommons.org/licenses/by-nc/4.0/\">licencia de Creative Commons Reconocimiento-NoComercial 4.0 Internacional</a>."
   ]
  },
  {
   "cell_type": "markdown",
   "metadata": {},
   "source": [
    "# Objetivos de este cuaderno\n",
    "\n",
    "- Mostrar el paradigma de la Programación Orientada a Objetos.   \n",
    "- Generación de una pequeña librería de objetos.  \n",
    "- Uso de los objetos para determinar el centro de gravedad de una figura compuesta. \n",
    "- Uso de los objetos para determinar momentos de inercia principales y direcciones principales. "
   ]
  },
  {
   "cell_type": "markdown",
   "metadata": {},
   "source": [
    "## Introducción a la Programación Orientada a Objetos\n",
    "\n",
    "Python es, como otros lenguajes modernos, un lenguaje de programación orientado a objetos. \n",
    "\n",
    "Aunque muchos programadores consideran la Programación Orientada a Objetos un paradigma moderno, los inicios de este estilo de programación vienen de la década de 1960. El primer lenguaje de programación que utilizó objetos fue Simula 67. Como su nombre sugiere, Simula 67 se introdujo en 1967. El siguiente hito en este estilo lo impuso el lenguaje Smalltalk en los años 70. \n",
    "\n",
    "Para ingeniería civil, es muy importante hoy en día el paradigma de los _objetos_. El paradigma de la programación orientada a objetos es _práctico_. Está presente en la mayoría de aplicaciones e interacciones de programas de ingeniería. \n",
    "\n",
    "La programación orientada a objetos representa un nuevo paradigma en programación. La palabra \"paradigma\" hace referencia en lenguajes de programación a \"manera de hacer las cosas\", en términos coloquiales. Si el alumno ha estudiado previamente un lenguaje como FORTRAN, estará familiarizado con los paradigmas propios de la programación procedimental: subrutinas, funciones, módulos, etc. \n",
    "\n",
    "Modernamente, se ha impuesto un nuevo paradigma en el sector de la construcción. Se denomina [BIM](https://es.wikipedia.org/wiki/Modelado_de_informaci%C3%B3n_de_construcci%C3%B3n) (Building Information Modelling). Python es un lenguaje utilizado por los principales paquetes de BIM para la construcción de macros e interrelación entre programas. \n",
    "\n",
    "Para motivar el uso de objetos, se va a plantear un problema de momentos de inercia. "
   ]
  },
  {
   "cell_type": "markdown",
   "metadata": {},
   "source": [
    "## Objetos: ejemplo de cálculo del tensor de inercia plano\n",
    "\n",
    "En este apartado se introducirán conceptos básicos de Programación Orientada a Objetos, en un contexto de ingeniería mecánica. Un objeto se introduce en Python definiendo una clase. Para entender mejor este nuevo paradigma, se va a introducir un problema. \n",
    "\n",
    "Considere que se desea calcular el centro de gravedad, y las componentes principales de inercia y direcciones principales, de la siguiente figura:\n",
    "\n",
    "<img src=\"cuad4_objetos_seccion1.png\" width=\"350\" border=\"0\" hspace=\"12\" vspace=\"0\" alt=\"Ejemplo de objeto\">"
   ]
  },
  {
   "cell_type": "markdown",
   "metadata": {},
   "source": [
    "Observe que la figura se compone de tres objetos geométricos:\n",
    "\n",
    "- Un rectángulo, de 6 m de base, y 8 m de altura.\n",
    "\n",
    "- Un círculo, de rado 1 m, que supone un hueco en el rectángulo.\n",
    "\n",
    "- Otro hueco, esta vez de forma triangular, de 4 m de base y 3 m de altura.\n",
    "\n",
    "Sabemos que las operaciones para definir el centro de gravedad, y el tensor de inercia, se pueden hacer dividiendo la figura en figuras simples. En efecto, si se definen el rectángulo, círculo, y triángulo, a partir de sus propiedades básicas, como pueden ser: las coordenadas del centro, la base, la altura, o el radio, es posible automatizar las operaciones para definir el centro de gravedad, y las componentes del tensor de inercia."
   ]
  },
  {
   "cell_type": "markdown",
   "metadata": {},
   "source": [
    "## Definición de la clase \"Punto\"\n",
    "\n",
    "A continuación se define la clase Punto. Debido a futuras operaciones, se va a importar la librería numpy."
   ]
  },
  {
   "cell_type": "code",
   "execution_count": 1,
   "metadata": {
    "collapsed": true
   },
   "outputs": [],
   "source": [
    "import numpy as np\n",
    "\n",
    "#==============================================================================\n",
    "# Definición de la clase \"Punto\". Coordenadas (x, y) de un punto\n",
    "#==============================================================================\n",
    "#         ^ y\n",
    "#         |\n",
    "#         |\n",
    "#         |         ·P(x,y)\n",
    "#         |\n",
    "#         |\n",
    "#    -----|-------------------------> x\n",
    "\n",
    "class Punto:\n",
    "    \"\"\" Clase para representar los puntos, coordenadas x, y \"\"\"\n",
    "    def __init__(self, x=0, y=0):\n",
    "        self.x = x\n",
    "        self.y = y \n",
    "    def coords(self):\n",
    "        return \"({0}, {1})\".format(self.x, self.y)\n"
   ]
  },
  {
   "cell_type": "markdown",
   "metadata": {},
   "source": [
    "Observe cómo se utiliza esta clase. En primer lugar, la clase tiene un _inicializador_; por defecto, si no es especifica más, las coordenadas serán x=0, y=0. Observe que las coordenadas son características propias del objeto (self). \n",
    "\n",
    "Además, se define una función que actúa sobre las coordenadas. Esta función se encarga de mostrar por pantalla las componentes x e y del punto. \n",
    "\n",
    "Observe el funcionamiento"
   ]
  },
  {
   "cell_type": "code",
   "execution_count": 2,
   "metadata": {
    "collapsed": true
   },
   "outputs": [],
   "source": [
    "punto1 = Punto() #No se especifican coordenadas. Por tanto, asiga x=0, y=0"
   ]
  },
  {
   "cell_type": "markdown",
   "metadata": {},
   "source": [
    "Ahora \"punto1\" es un punto, de coordenadas (0,0). Para acceder a las variables y métodos de este objeto, se utiliza el punto, seguido del nombre de la variable o método a usar. En Jupyter observe que al escribir \"punto1.\" puede, mediante el tabulador, elegirse la variable o método a activar. "
   ]
  },
  {
   "cell_type": "code",
   "execution_count": 3,
   "metadata": {},
   "outputs": [
    {
     "data": {
      "text/plain": [
       "0"
      ]
     },
     "execution_count": 3,
     "metadata": {},
     "output_type": "execute_result"
    }
   ],
   "source": [
    "punto1.x"
   ]
  },
  {
   "cell_type": "code",
   "execution_count": 4,
   "metadata": {},
   "outputs": [
    {
     "data": {
      "text/plain": [
       "0"
      ]
     },
     "execution_count": 4,
     "metadata": {},
     "output_type": "execute_result"
    }
   ],
   "source": [
    "punto1.y"
   ]
  },
  {
   "cell_type": "code",
   "execution_count": 5,
   "metadata": {},
   "outputs": [
    {
     "data": {
      "text/plain": [
       "'(0, 0)'"
      ]
     },
     "execution_count": 5,
     "metadata": {},
     "output_type": "execute_result"
    }
   ],
   "source": [
    "punto1.coords()"
   ]
  },
  {
   "cell_type": "markdown",
   "metadata": {},
   "source": [
    "## Definición de una función para calcular el punto medio\n",
    "\n",
    "Se define una función que actúa sobre objetos de tipo Punto. Devuelve un nuevo objeto de tipo Punto, cuyas coordenadas son el punto medio de dos puntos."
   ]
  },
  {
   "cell_type": "code",
   "execution_count": 6,
   "metadata": {
    "collapsed": true
   },
   "outputs": [],
   "source": [
    "def midpoint(p1, p2):\n",
    "    \"\"\" Devuelve el punto medio entre p1 y p2 \"\"\"\n",
    "    mx = (p1.x + p2.x)/2.\n",
    "    my = (p1.y + p2.y)/2.\n",
    "    return Punto(mx, my)"
   ]
  },
  {
   "cell_type": "markdown",
   "metadata": {},
   "source": [
    "Observe su comportamiento"
   ]
  },
  {
   "cell_type": "code",
   "execution_count": 7,
   "metadata": {},
   "outputs": [
    {
     "data": {
      "text/plain": [
       "'(3.0, 4.5)'"
      ]
     },
     "execution_count": 7,
     "metadata": {},
     "output_type": "execute_result"
    }
   ],
   "source": [
    "p1 = Punto(2,3)\n",
    "p2 = Punto(4,6)\n",
    "pmedio = midpoint(p1,p2)\n",
    "pmedio.coords()"
   ]
  },
  {
   "cell_type": "markdown",
   "metadata": {},
   "source": [
    "## Definición de la clase Rectángulo\n",
    "\n",
    "A continuación se genera la clase Rectangulo, definida a partir de las coordenadas del centro de gravedad del rectángulo, la base y la altura. Observe que dentro de esta clase, se definen funciones para calcular momentos de inercia."
   ]
  },
  {
   "cell_type": "code",
   "execution_count": 8,
   "metadata": {
    "collapsed": true
   },
   "outputs": [],
   "source": [
    "class Rectangulo: \n",
    "    \"\"\" Rectángulo centro, base, altura\"\"\"\n",
    "    def __init__(self, centro = Punto(), base = 0, altura = 0):\n",
    "        self.centro = centro # Se definirá un objeto de tipo Punto\n",
    "        self.base = base\n",
    "        self.altura = altura\n",
    "    def area(self): # Area del rectángulo\n",
    "        return self.base * self.altura\n",
    "\n",
    "    def Ixg (self): # Momento de inercia respecto al eje x en CG\n",
    "        return 1./12 * self.base  * self.altura **3\n",
    "    \n",
    "    def Iyg (self): # Momento de inercia respecto al eje y en CG\n",
    "        return 1./12 * self.base **3 * self.altura"
   ]
  },
  {
   "cell_type": "markdown",
   "metadata": {},
   "source": [
    "## Definición de la clase Círculo. \n",
    "\n",
    "La clase Círculo se define a partir del centro y radio. Se definen funciones para el área y momentos de inercia"
   ]
  },
  {
   "cell_type": "code",
   "execution_count": 9,
   "metadata": {
    "collapsed": true
   },
   "outputs": [],
   "source": [
    "class Circulo:\n",
    "    \"\"\" Círculo, dado el centro y el radio\"\"\"\n",
    "    def __init__(self, centro = Punto(), radio = 0):\n",
    "        self.centro = centro # Objeto de tipo Punto\n",
    "        self.radio = radio\n",
    "\n",
    "    def area(self): # Area del rectángulo\n",
    "        return np.pi * self.radio ** 2\n",
    "\n",
    "    def Ixg (self): # Momento de inercia respecto al eje x en CG\n",
    "        return 1./4 * np.pi * self.radio**4\n",
    "    \n",
    "    def Iyg (self): # Momento de inercia respecto al eje y en CG\n",
    "        return 1./4 * np.pi * self.radio**4"
   ]
  },
  {
   "cell_type": "markdown",
   "metadata": {},
   "source": [
    "## Definición de la clase Triángulo\n",
    "\n",
    "La clase Triángulo se define a partir del centro, base y altura. Igualmente se introducen funciones para calcular el área, y momentos de inercia. \n"
   ]
  },
  {
   "cell_type": "code",
   "execution_count": 10,
   "metadata": {
    "collapsed": true
   },
   "outputs": [],
   "source": [
    "class Triangulo:\n",
    "    \"\"\" Triangulo isósceles, centro, base, altura \"\"\"\n",
    "    def __init__(self, centro = Punto(), base = 0, altura = 0):\n",
    "        self.centro = centro # Objeto de tipo Punto\n",
    "        self.base = base\n",
    "        self.altura = altura\n",
    "\n",
    "    def area(self): # Area del rectángulo\n",
    "        return 1 / 2. * self.base * self.altura\n",
    "\n",
    "    def Ixg (self): # Momento de inercia respecto al eje x en CG\n",
    "        return 1. / 36 * self.base * self.altura ** 3\n",
    "    \n",
    "    def Iyg (self): # Momento de inercia respecto al eje y en CG\n",
    "        return 1. / 48 * self.altura * self.base ** 3"
   ]
  },
  {
   "cell_type": "markdown",
   "metadata": {},
   "source": [
    "## Resolución del problema propuesto. Paso 1: generación de objetos. \n",
    "\n",
    "Para resolver el problema, en primer lugar, generaremos tres objetos: el rectángulo, el círculo y el triángulo"
   ]
  },
  {
   "cell_type": "code",
   "execution_count": 11,
   "metadata": {
    "collapsed": true
   },
   "outputs": [],
   "source": [
    "#==============================================================================\n",
    "# Definición del rectángulo\n",
    "#==============================================================================\n",
    "\n",
    "r_centro = Punto(3, 4)\n",
    "rect = Rectangulo(r_centro, 6, 8)\n",
    "\n",
    "#==============================================================================\n",
    "#  Definición del hueco circular\n",
    "#==============================================================================\n",
    "\n",
    "c_centro = Punto(1.5, 6)\n",
    "radio = 1\n",
    "circ = Circulo(c_centro, radio)\n",
    "\n",
    "#==============================================================================\n",
    "#  Definición del hueco triangular\n",
    "#==============================================================================\n",
    "\n",
    "c_tri = Punto(3.5, 2)\n",
    "triang = Triangulo(c_tri, 4, 3)"
   ]
  },
  {
   "cell_type": "markdown",
   "metadata": {},
   "source": [
    "A continuación se imprimen las propiedades de cada objeto. "
   ]
  },
  {
   "cell_type": "code",
   "execution_count": 12,
   "metadata": {},
   "outputs": [
    {
     "name": "stdout",
     "output_type": "stream",
     "text": [
      "Propiedades del rectangulo\n",
      "---------------------------\n",
      "Coordenadas del centro (3, 4)\n",
      "Área 48\n",
      "Inercia Ix en el centro de gravedad 256.0\n",
      "Inercia Iy en el centro de gravedad 144.0\n"
     ]
    }
   ],
   "source": [
    "print (\"Propiedades del rectangulo\")\n",
    "print (\"---------------------------\")\n",
    "\n",
    "print (\"Coordenadas del centro\", rect.centro.coords())\n",
    "print (\"Área\", rect.area())\n",
    "print (\"Inercia Ix en el centro de gravedad\", rect.Ixg())\n",
    "print (\"Inercia Iy en el centro de gravedad\", rect.Iyg())"
   ]
  },
  {
   "cell_type": "code",
   "execution_count": 13,
   "metadata": {},
   "outputs": [
    {
     "name": "stdout",
     "output_type": "stream",
     "text": [
      "Propiedades del circulo\n",
      "-----------------------\n",
      "Coordenadas del centro (1.5, 6)\n",
      "Área 3.141592653589793\n",
      "Inercia Ix en el centro de gravedad 0.7853981633974483\n",
      "Inercia Iy en el centro de gravedad 0.7853981633974483\n"
     ]
    }
   ],
   "source": [
    "print (\"Propiedades del circulo\")\n",
    "print (\"-----------------------\")\n",
    "print (\"Coordenadas del centro\", circ.centro.coords())\n",
    "print (\"Área\", circ.area())\n",
    "print (\"Inercia Ix en el centro de gravedad\", circ.Ixg())\n",
    "print (\"Inercia Iy en el centro de gravedad\", circ.Iyg())"
   ]
  },
  {
   "cell_type": "code",
   "execution_count": 14,
   "metadata": {},
   "outputs": [
    {
     "name": "stdout",
     "output_type": "stream",
     "text": [
      "Propiedades del triángulo\n",
      "-------------------------\n",
      "Coordenadas del centro (3.5, 2)\n",
      "Área 6.0\n",
      "Inercia Ix en el centro de gravedad 3.0\n",
      "Inercia Iy en el centro de gravedad 4.0\n"
     ]
    }
   ],
   "source": [
    "print (\"Propiedades del triángulo\")\n",
    "print (\"-------------------------\")\n",
    "\n",
    "print (\"Coordenadas del centro\", triang.centro.coords())\n",
    "print (\"Área\", triang.area())\n",
    "print (\"Inercia Ix en el centro de gravedad\", triang.Ixg())\n",
    "print (\"Inercia Iy en el centro de gravedad\", triang.Iyg())\n"
   ]
  },
  {
   "cell_type": "markdown",
   "metadata": {},
   "source": [
    "## Cálculo del centro de gravedad de la figura compuesta\n",
    "\n",
    "Para calcular el centro de gravedad se procede calculando el área global, el momento estático, y estableciendo el cociente visto en la asignatura. \n",
    "\n",
    "Observe que es muy sencillo seguir los cálculos que se han hecho en cada línea, sabiendo a qué objeto se están refiriendo. Esta es la principal ventaja de este paradigma. Los objetos son más sencillos para el pensamiento humano, y la forma de referirse a ellos nos es más familar que la llamada a funciones específicas. \n",
    "\n",
    "Observe la primera línea. Para el cálculo del área en programación por funciones se hubiese requerido definir tres funciones diferentes (con diferentes nombres) a las que pasarles argumentos diferentes para definir el área del rectángulo, del círculo y del triángulo. En cambio, con objetos, simplemente añadimos el nombre de la función \"area()\", la cual actúa diferente sobre cada objeto, según se ha definido en cada clase.\n",
    "\n",
    "En primer lugar determinaremos el área:"
   ]
  },
  {
   "cell_type": "code",
   "execution_count": 15,
   "metadata": {
    "collapsed": true
   },
   "outputs": [],
   "source": [
    "area = rect.area() - circ.area() - triang.area()"
   ]
  },
  {
   "cell_type": "markdown",
   "metadata": {},
   "source": [
    "Observe el código anterior. La función que permite calcular el área se llama exactamente igual, ´area()´. Pero actúa de manera diferente sobre objetos rectangulares, circulares o triangulares. \n",
    "La línea anterior sería exactamente la expresión algorítmica que le diríamos a alguien que necesita calcular el área de la figura compuesta. \n",
    "\n",
    "Deerminemos ahora el centro de gravedad (centroide):"
   ]
  },
  {
   "cell_type": "code",
   "execution_count": 16,
   "metadata": {},
   "outputs": [
    {
     "name": "stdout",
     "output_type": "stream",
     "text": [
      "Centro de gravedad (3.0440674000125454, 4.147119119984946)\n"
     ]
    }
   ],
   "source": [
    "xg =  rect.area() * rect.centro.x  # Primero el momento estático del rectángulo\n",
    "xg -= circ.area() * circ.centro.x  # Se resta el me del círculo\n",
    "xg -= triang.area() * triang.centro.x # Se resta el me del triángulo\n",
    "xg = xg / area \n",
    "\n",
    "yg =  rect.area() * rect.centro.y \n",
    "yg -= circ.area() * circ.centro.y \n",
    "yg -= triang.area() * triang.centro.y\n",
    "\n",
    "yg = yg / area\n",
    "\n",
    "CG = Punto(xg, yg) #Se crea un objeto de tipo punto, con el centro de gravedad\n",
    "print (\"Centro de gravedad\", CG.coords())"
   ]
  },
  {
   "cell_type": "markdown",
   "metadata": {},
   "source": [
    "## Cálculo de las componentes del tensor de inercia. \n",
    "\n",
    "A continuación se calculan los momentos de inercia de la figura compuesta, aplicando el Teorema de Steiner para trasladar cada momento individual a la posición del centro de gravedad de la figura compuesta. "
   ]
  },
  {
   "cell_type": "code",
   "execution_count": 17,
   "metadata": {
    "collapsed": true
   },
   "outputs": [],
   "source": [
    "Ixg =  rect.Ixg() + rect.area() * (rect.centro.y - CG.y ) **2\n",
    "Ixg -= circ.Ixg() + circ.area() * (circ.centro.y - CG.y ) **2\n",
    "Ixg -= triang.Ixg() + triang.area() * (triang.centro.y - CG.y ) **2\n",
    "\n",
    "Iyg =  rect.Iyg() + rect.area() * (rect.centro.x - CG.x ) **2\n",
    "Iyg -= circ.Iyg() + circ.area() * (circ.centro.x - CG.x ) **2\n",
    "Iyg -= triang.Iyg() + triang.area() * (triang.centro.x - CG.x ) **2"
   ]
  },
  {
   "cell_type": "markdown",
   "metadata": {},
   "source": [
    "Tras esto, se calculan los productos de inercia y se trasladan al centro de gravedad de la figura compuesta."
   ]
  },
  {
   "cell_type": "code",
   "execution_count": 18,
   "metadata": {
    "collapsed": true
   },
   "outputs": [],
   "source": [
    "Pxyg =  rect.area() * (rect.centro.x - CG.x) * (rect.centro.y - CG.y)\n",
    "Pxyg -= circ.area() * (circ.centro.x - CG.x) * (circ.centro.y - CG.y)\n",
    "Pxyg -= triang.area() * (triang.centro.x - CG.x) * (triang.centro.y - CG.y)"
   ]
  },
  {
   "cell_type": "markdown",
   "metadata": {},
   "source": [
    "## Resultado final\n",
    "\n",
    "A continuación se muestran las componentes calculadas del tensor de inercia"
   ]
  },
  {
   "cell_type": "code",
   "execution_count": 19,
   "metadata": {},
   "outputs": [
    {
     "name": "stdout",
     "output_type": "stream",
     "text": [
      "Tensor de Inercia en el centro de gravedad\n",
      "------------------------------------------\n",
      "Ixg = 214.80717847551864\n",
      "Iyg = 130.57055783584983\n",
      "Pxyg= 15.172852800903266\n"
     ]
    }
   ],
   "source": [
    "print (\"Tensor de Inercia en el centro de gravedad\")\n",
    "print (\"------------------------------------------\")\n",
    "print (\"Ixg =\", Ixg)\n",
    "print (\"Iyg =\", Iyg)\n",
    "print (\"Pxyg=\", Pxyg)"
   ]
  },
  {
   "cell_type": "markdown",
   "metadata": {},
   "source": [
    "## Cálculo de las componentes y direcciones principales del tensor de inercia\n",
    "\n",
    "Diagonalizando el tensor de inercia se obtienen los valores de los momentos principales de inercia y las direcciones principales. En primer lugar, se define el tensor de inercia (observe el signo negativo para los productos de inercia)"
   ]
  },
  {
   "cell_type": "code",
   "execution_count": 20,
   "metadata": {
    "collapsed": true
   },
   "outputs": [],
   "source": [
    "Inercia = np.array([[Ixg, -Pxyg],\n",
    "                    [-Pxyg, Iyg]])\n",
    "                    "
   ]
  },
  {
   "cell_type": "markdown",
   "metadata": {},
   "source": [
    "Finalmente, se diagonalizará el tensor de inercia. Esto se hace con una función de Numpy específica. "
   ]
  },
  {
   "cell_type": "code",
   "execution_count": 21,
   "metadata": {
    "collapsed": true
   },
   "outputs": [],
   "source": [
    "Iprin, vect = np.linalg.eig(Inercia)"
   ]
  },
  {
   "cell_type": "markdown",
   "metadata": {},
   "source": [
    "La variable `Iprin` contiene los valores propios del tensor de inercia, que como sabemos, serán los momentos de inercia principales. Veamos qué contiene: "
   ]
  },
  {
   "cell_type": "code",
   "execution_count": 22,
   "metadata": {},
   "outputs": [
    {
     "data": {
      "text/plain": [
       "array([ 217.45679782,  127.92093849])"
      ]
     },
     "execution_count": 22,
     "metadata": {},
     "output_type": "execute_result"
    }
   ],
   "source": [
    "Iprin"
   ]
  },
  {
   "cell_type": "markdown",
   "metadata": {},
   "source": [
    "Como vemos, contiene un vector. Cada componente del vector contiene un momento de inercia principal. \n",
    "\n",
    "A cada valor propio le corresponde un vector propio. La función `np.linalg.eig()` proporciona directamente en el segundo argumento, (en este caso, `vect`) la matriz de vectores propios. Esta matriz se corresponde a la matriz de cambio de base de la base B de vectores propios, a la base canónica E. "
   ]
  },
  {
   "cell_type": "code",
   "execution_count": 23,
   "metadata": {},
   "outputs": [
    {
     "data": {
      "text/plain": [
       "array([[ 0.98509247,  0.17202566],\n",
       "       [-0.17202566,  0.98509247]])"
      ]
     },
     "execution_count": 23,
     "metadata": {},
     "output_type": "execute_result"
    }
   ],
   "source": [
    "vect"
   ]
  },
  {
   "cell_type": "code",
   "execution_count": 24,
   "metadata": {
    "collapsed": true
   },
   "outputs": [],
   "source": [
    "v1 = vect[:,0]\n",
    "v2 = vect[:,1]"
   ]
  },
  {
   "cell_type": "code",
   "execution_count": 25,
   "metadata": {},
   "outputs": [
    {
     "name": "stdout",
     "output_type": "stream",
     "text": [
      "Momento de inercia I1\n",
      "217.456797819\n",
      "Vector propio v1 [ 0.98509247 -0.17202566]\n",
      "Módulo de v1 1.0\n"
     ]
    }
   ],
   "source": [
    "# Momento de inercia y vector propio asociado a la dirección 1\n",
    "print (\"Momento de inercia I1\")\n",
    "print (Iprin[0]) # atención, la primera componente en Python se indexa con el 0\n",
    "print (\"Vector propio v1\", v1)\n",
    "print (\"Módulo de v1\",np.linalg.norm(v1))"
   ]
  },
  {
   "cell_type": "code",
   "execution_count": 26,
   "metadata": {},
   "outputs": [
    {
     "name": "stdout",
     "output_type": "stream",
     "text": [
      "Momento de inercia I2\n",
      "127.920938493\n",
      "Vector propio v1 [ 0.17202566  0.98509247]\n",
      "Módulo de v2 1.0\n"
     ]
    }
   ],
   "source": [
    "# Momento de inercia y vector propio asociado a la dirección 2\n",
    "print (\"Momento de inercia I2\")\n",
    "print (Iprin[1]) \n",
    "print (\"Vector propio v1\", v2)\n",
    "print (\"Módulo de v2\",np.linalg.norm(v1))"
   ]
  },
  {
   "cell_type": "code",
   "execution_count": null,
   "metadata": {
    "collapsed": true
   },
   "outputs": [],
   "source": []
  }
 ],
 "metadata": {
  "kernelspec": {
   "display_name": "Python 3",
   "language": "python",
   "name": "python3"
  },
  "language_info": {
   "codemirror_mode": {
    "name": "ipython",
    "version": 3
   },
   "file_extension": ".py",
   "mimetype": "text/x-python",
   "name": "python",
   "nbconvert_exporter": "python",
   "pygments_lexer": "ipython3",
   "version": "3.6.1"
  }
 },
 "nbformat": 4,
 "nbformat_minor": 2
}

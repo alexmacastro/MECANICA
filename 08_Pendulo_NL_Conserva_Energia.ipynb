{
 "cells": [
  {
   "cell_type": "markdown",
   "metadata": {},
   "source": [
    "# Péndulo simple. Conservación de energía en caso general\n",
    "\n",
    "## Mecánica para Ingenieros. Grado en Ingeniería Civil. \n",
    "\n",
    "+ Alejandro E. Martínez Castro (email:amcastro@ugr.es).\n",
    "\n",
    "_Departamento de Mecánica de Estructuras e Ingeniería Hidráulica_\n",
    "\n",
    "_Universidad de Granada_\n",
    "\n",
    "\n",
    "<a rel=\"license\" href=\"http://creativecommons.org/licenses/by-nc/4.0/\"><img alt=\"Licencia de Creative Commons\" style=\"border-width:0\" src=\"https://i.creativecommons.org/l/by-nc/4.0/88x31.png\" /></a><br />Este obra está bajo una <a rel=\"license\" href=\"http://creativecommons.org/licenses/by-nc/4.0/\">licencia de Creative Commons Reconocimiento-NoComercial 4.0 Internacional</a>."
   ]
  },
  {
   "cell_type": "markdown",
   "metadata": {},
   "source": [
    "# Objetivos de este cuaderno\n",
    "\n",
    "En este cuaderno se validará la solución numérica para el caso del péndulo simple no lineal. Se verificará: \n",
    "- La dependencia del paso de tiempo de integración en un método numérico. \n",
    "- Que se conserva la energía sólo de forma aproximada. "
   ]
  },
  {
   "cell_type": "markdown",
   "metadata": {},
   "source": [
    "# Estudio general del péndulo simple. Coordenada generalizada.\n",
    "\n",
    "Consideremos un péndulo simple. La figura representa un hilo de longitud $l$ de masa despreciable, e inextensible. La masa $m$ se mueve bajo la acción del campo gravitatorio y la tensión del hilo. \n",
    "\n",
    "El ángulo $\\varphi(t)$ permite posicionar la masa, y se considerará como coordenada generalizada del movimiento. \n"
   ]
  },
  {
   "cell_type": "markdown",
   "metadata": {
    "collapsed": true
   },
   "source": [
    "<img src=\"cuaderno7_pendulo_figura1.png\" width=\"250\" border=\"0\" hspace=\"12\" vspace=\"0\" alt=\"Pendulo_inicial\">"
   ]
  },
  {
   "cell_type": "markdown",
   "metadata": {},
   "source": [
    "## Segunda ley de Newton en sistema de referencia ligado a la partícula. \n",
    "\n",
    "Consideremos el sistema de referencia de la figura. En el mismo, se pueden descomponer los vectores $\\vec{T}$ y $\\vec{P}$, y establecer la segunda ley de Newton. \n",
    "\n",
    "El vector aceleración se descompone en aceleración normal y tangencial. \n",
    "\n",
    "$$\\vec{a} = \\vec{a}_n + \\vec{a}_t$$\n",
    "\n",
    "La componente de aceleración \n"
   ]
  },
  {
   "cell_type": "markdown",
   "metadata": {
    "collapsed": true
   },
   "source": [
    "# Solución mediante métodos numéricos. \n",
    "\n",
    "En ingeniería es habitual tener que resolver numéricamente ecuaciones diferenciales que modelizan determinados fenómenos físicos. \n",
    "\n",
    "Existe un conjunto de métodos para resolver ecuaciones diferenciales ordinarias de primer orden, del tipo: \n",
    "\n",
    "$$ y'(t) = f(y,t)$$\n",
    "\n",
    "con una condición inicial, del tipo $y(t_0) = y_0$. \n",
    "\n",
    "Es probable que el alumno conozca algunos de estos métodos si ha estudiado un curso básico de ecuaciones diferenciales ordinarias. \n",
    "\n",
    "Para resolver numéricamente una ecuación diferencial en Python existen diversos procedimientos. \n",
    "\n",
    "Pruebe buscar en Google \"Python ode integration\". El término \"ode\" hace alusión a \"Ordinary Differential Equation\"\n",
    "\n"
   ]
  },
  {
   "cell_type": "markdown",
   "metadata": {},
   "source": [
    "## Reducción a un sistema de primer orden\n",
    "\n",
    "El primer paso para resolver numéricamente una ecuación de orden 2 (derivadas segundas) es reducirla a un sistema (más de una) ecuación que sólo tenga derivadas primeras. \n",
    "\n",
    "Para esto, introduciremos la variable $\\omega = \\dfrac{d \\varphi}{dt}$\n",
    "\n",
    "La derivada segunda de $\\varphi$ puede escribirse como una derivada primera de $\\omega$. En efecto: \n",
    "\n",
    "$$ \\ddot{\\varphi} = \\dot{\\omega}$$\n",
    "\n",
    "Introduciendo este cambio, es posible escribir la ecuación de gobierno del problema de la siguiente forma: \n",
    "\n",
    "$$\\ddot{\\varphi} + \\dfrac{g}{l}\\,\\mathrm{sen}(\\varphi) = 0 \\Rightarrow \\dot(\\omega) + \\mathrm{sen}(\\varphi) = 0$$\n",
    "\n",
    "El sistema de dos ecuaciones de primer orden ahora, para las variables $\\varphi(t)$ y $\\omega(t)$ es: \n",
    "\n",
    "\\begin{align}\n",
    "\\dot{\\varphi} &  = \\omega \\\\\n",
    "\\dot{\\omega} & = - \\dfrac{g}{l}\\,\\mathrm{sen}(\\varphi)\n",
    "\\end{align}\n",
    "\n",
    "Esta ecuación puede resolverse numéricamente, si se aportan condiciones iniciales. En nuestro caso: \n",
    "\n",
    "- El ángulo inicial $\\varphi(0) = \\varphi_0$. Definiremos el ángulo en el instante inicial. \n",
    "- La velocidad inicial $\\omega(0) = 0$. Asumiremos que parte del reposo. \n",
    "\n",
    "Veamos el código en Python que permite resolver el problema de forma numérica"
   ]
  },
  {
   "cell_type": "code",
   "execution_count": 1,
   "metadata": {},
   "outputs": [
    {
     "name": "stdout",
     "output_type": "stream",
     "text": [
      "Frecuencia angular aproximada bajas oscilaciones\n",
      "Omega_lineal =  0.7000000000000001\n",
      "Periodo lineal  8.975979010256552\n"
     ]
    },
    {
     "data": {
      "text/plain": [
       "<Figure size 800x800 with 3 Axes>"
      ]
     },
     "metadata": {},
     "output_type": "display_data"
    }
   ],
   "source": [
    "import numpy as np\n",
    "import matplotlib.pyplot as plt\n",
    "from scipy.integrate import odeint\n",
    "\n",
    "def f(y, t, params):\n",
    "    phi, omega = y      # Asignamos a la variable y las dos variables del sistema, phi y omega\n",
    "    g, l = params       # Definimos los parámetros g y l (aceleración de la gravedad y longitud del hilo)\n",
    "    derivs = [omega ,   # Lista con las dos derivadas \n",
    "             - g/l*np.sin(phi)] \n",
    "    return derivs\n",
    "\n",
    "# Parámetros\n",
    "g = 9.8          # Aceleración de la gravedad, m/s2\n",
    "l = 20           # Longitud del péndulo \n",
    "\n",
    "# ESTIMACIÓN DEL PERIODO FUNDAMENTAL CON OSCILACIONES DE PEQUEÑA AMPLITUD\n",
    "# La justificación se estudiará en oscilaciones lineales.\n",
    "\n",
    "print (\"Frecuencia angular aproximada bajas oscilaciones\") \n",
    "fangular_lineal = np.sqrt(g/l)\n",
    "print (\"Omega_lineal = \", fangular_lineal)\n",
    "\n",
    "periodo_lineal = (2.*np.pi / fangular_lineal)\n",
    "print (\"Periodo lineal \", periodo_lineal)\n",
    "\n",
    "# Valores iniciales\n",
    "theta0 = 45 # Ángulo inicial en grados de la masa del péndulo\n",
    "\n",
    "theta0 = np.deg2rad(45)     # Ángulo en radianes\n",
    "omega0 = 0.0                # Velocidad inicial de la masa del péndulo.\n",
    "\n",
    "# Parámetros para el solver de la Ecuación Diferencial Ordinaria (ODE)\n",
    "params = [g, l]\n",
    "\n",
    "# Condiciones iniciales\n",
    "y0 = [theta0, omega0]\n",
    "\n",
    "# Definición de una lista de tiempos en los que se calcula la solución.\n",
    "tStop = 30 * periodo_lineal\n",
    "tInc = periodo_lineal / 50 # Paso de tiempo de integración: 1/100 del periodo aproximado con teoría lineal\n",
    "t = np.arange(0., tStop, tInc)\n",
    "\n",
    "# Llamada al solver de la Ecuación Diferencial Ordinaria (ODE)\n",
    "psoln = odeint(f, y0, t, args=(params,))\n",
    "\n",
    "# Dibujo de los resultados\n",
    "fig = plt.figure(1, figsize=(8,8))\n",
    "\n",
    "# Dibujo de phi en función del tiempo\n",
    "ax1 = fig.add_subplot(311)\n",
    "ax1.plot(t, psoln[:,0])\n",
    "ax1.set_xlabel('tiempo(s)')\n",
    "ax1.set_ylabel(r'$\\varphi(t)R')\n",
    "\n",
    "# Dibujo de omega en función del tiempo\n",
    "ax2 = fig.add_subplot(312)\n",
    "ax2.plot(t, psoln[:,1])\n",
    "ax2.set_xlabel('tiempo(s)')\n",
    "ax2.set_ylabel(r'$\\omega(t)$')\n",
    "\n",
    "# Dibujo de omega frente a phi\n",
    "ax3 = fig.add_subplot(313)\n",
    "twopi = 2.0*np.pi\n",
    "ax3.plot(psoln[:,0]%twopi, psoln[:,1], '.', ms=1)\n",
    "ax3.set_xlabel(r'$\\varphi$')\n",
    "ax3.set_ylabel(r'$\\omega$')\n",
    "ax3.set_xlim(0., twopi)\n",
    "\n",
    "plt.tight_layout()\n",
    "plt.show()"
   ]
  },
  {
   "cell_type": "markdown",
   "metadata": {
    "collapsed": true
   },
   "source": [
    "## Conservación de energía\n",
    "\n",
    "De las dos fuerzas que actúan sobre la partícula, la tensión del hilo es siempre perpendicular al vector desplazamiento en cada instante. Por tanto, no provoca trabajo. La fuerza del peso $\\vec{P}$ provoca un trabajo, que puede calcularse como fuerza conservativa. \n",
    "\n",
    "En todo instante, ha de verificarse que \n",
    "\n",
    "$$T + V = cte$$\n",
    "\n",
    "Siendo: \n",
    "\n",
    "- $\\vec{T} $, Energía cinética de la partícula, $\\vec{T} = \\dfrac{1}{2} m \\,\\vec{v}\\cdot\\vec{v}$. Esta energía puede calcularse en el movimiento de rotación como $T =\\dfrac{1}{2} I_0 \\,(\\dot{\\varphi})^2$, siendo $I_0 = m\\,l^2$\n",
    "\n",
    "- $V$ = Energía potencial de la partícula. En el sistema de referencia propuesto, $V = - m\\,g\\,x$, puesto que la fuerza del peso es $\\vec{P} = m\\,g\\,\\vec{i}$\n",
    "\n",
    "La componente $x = l \\,cos(\\phi)$\n",
    "\n",
    "A partir de la solución numérica, podemos calcular en todo instante de tiempo la función: \n",
    "\n",
    "$$ T + V = \\dfrac{1}{2}\\,m\\,l^2 \\,(\\dot{\\varphi})^2 - m\\,g\\,l\\,cos(\\varphi)$$\n",
    "\n",
    "Esta expresión debe ser constante. Si no lo es, es porque el mñetodo de integración numérica ha cometido algún error."
   ]
  },
  {
   "cell_type": "code",
   "execution_count": 2,
   "metadata": {},
   "outputs": [],
   "source": [
    "def sumaenergia(fi,omega):\n",
    "    return 1/2 * l**2 * omega**2 - g * l * np.cos(fi)"
   ]
  },
  {
   "cell_type": "code",
   "execution_count": 3,
   "metadata": {},
   "outputs": [],
   "source": [
    "angulo_fi = psoln[:,0]\n",
    "omegas = psoln[:,1]"
   ]
  },
  {
   "cell_type": "code",
   "execution_count": 4,
   "metadata": {},
   "outputs": [],
   "source": [
    "eqenergia = sumaenergia(angulo_fi,omegas)"
   ]
  },
  {
   "cell_type": "code",
   "execution_count": 5,
   "metadata": {},
   "outputs": [
    {
     "data": {
      "image/png": "[encoded data removed]",
      "text/plain": [
       "<Figure size 432x288 with 1 Axes>"
      ]
     },
     "metadata": {
      "needs_background": "light"
     },
     "output_type": "display_data"
    }
   ],
   "source": [
    "line, = plt.plot(t ,eqenergia, label = \"T + V\", linewidth = 2.0),\n",
    "\n",
    "\n",
    "plt.xlabel(r'tiempo(s)')       #Etiqueta del eje x\n",
    "plt.ylabel(\"T+V\")           #Etiqueta del eje y\n",
    "\n",
    "plt.legend(loc=0)  # Mostrar leyenda en posición óptima (loc=0)\n",
    "plt.show()         # Mostrar figura final"
   ]
  },
  {
   "cell_type": "code",
   "execution_count": null,
   "metadata": {},
   "outputs": [],
   "source": []
  },
  {
   "cell_type": "markdown",
   "metadata": {},
   "source": []
  },
  {
   "cell_type": "markdown",
   "metadata": {},
   "source": [
    "### Conclusión\n",
    "\n",
    "Observando la gráfica anterior, verá que en el eje de ordenadas se representa el ángulo (en radianes) y en el eje de abscisa el tiempo. Nótese que a medida que aumenta el ángulo inicial, el periodo de la oscilación aumenta. El periodo es la diferencia de tiempos de paso ascendente por cero. \n",
    "\n",
    "Nótese que para los tres primeros ángulos se obtiene un periodo muy parecido. Son ángulos pequeños, para los cuales la aproximación del seno por el ángulo (en radianes) es correcta. \n",
    "\n",
    "Para valores más altos se observa que, a medida que aumenta el ángulo inicial, aumenta el periodo. Esta dependencia de la amplitud inicial es un efecto no lineal.\n",
    "\n",
    "Finalmente, se guardará en fichero para visualización sin requerir el cuaderno"
   ]
  },
  {
   "cell_type": "code",
   "execution_count": null,
   "metadata": {},
   "outputs": [],
   "source": []
  },
  {
   "cell_type": "code",
   "execution_count": 6,
   "metadata": {},
   "outputs": [
    {
     "ename": "NameError",
     "evalue": "name 'fig2' is not defined",
     "output_type": "error",
     "traceback": [
      "\u001b[1;31m---------------------------------------------------------------------------\u001b[0m",
      "\u001b[1;31mNameError\u001b[0m                                 Traceback (most recent call last)",
      "\u001b[1;32m<ipython-input-6-d2aedaf31d31>\u001b[0m in \u001b[0;36m<module>\u001b[1;34m\u001b[0m\n\u001b[1;32m----> 1\u001b[1;33m \u001b[0mfig2\u001b[0m\u001b[1;33m.\u001b[0m\u001b[0msavefig\u001b[0m\u001b[1;33m(\u001b[0m\u001b[1;34m\"pendulo_matematico.pdf\"\u001b[0m\u001b[1;33m)\u001b[0m\u001b[1;33m\u001b[0m\u001b[1;33m\u001b[0m\u001b[0m\n\u001b[0m",
      "\u001b[1;31mNameError\u001b[0m: name 'fig2' is not defined"
     ]
    }
   ],
   "source": [
    "fig2.savefig(\"pendulo_matematico.pdf\")"
   ]
  }
 ],
 "metadata": {
  "kernelspec": {
   "display_name": "Python 3",
   "language": "python",
   "name": "python3"
  },
  "language_info": {
   "codemirror_mode": {
    "name": "ipython",
    "version": 3
   },
   "file_extension": ".py",
   "mimetype": "text/x-python",
   "name": "python",
   "nbconvert_exporter": "python",
   "pygments_lexer": "ipython3",
   "version": "3.7.3"
  }
 },
 "nbformat": 4,
 "nbformat_minor": 2
}
